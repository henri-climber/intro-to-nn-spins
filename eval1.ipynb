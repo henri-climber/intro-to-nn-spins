{
 "cells": [
  {
   "cell_type": "code",
   "id": "initial_id",
   "metadata": {
    "collapsed": true,
    "ExecuteTime": {
     "end_time": "2025-01-26T14:58:46.106041Z",
     "start_time": "2025-01-26T14:58:46.077294Z"
    }
   },
   "source": [
    "import tensorflow as tf\n",
    "\n",
    "loaded_model = tf.keras.models.load_model(\"Model/saved_model9.keras\")"
   ],
   "outputs": [],
   "execution_count": 2
  },
  {
   "metadata": {
    "ExecuteTime": {
     "end_time": "2025-01-26T15:04:01.183219Z",
     "start_time": "2025-01-26T15:03:58.888848Z"
    }
   },
   "cell_type": "code",
   "source": [
    "from DataLoader import get_data_loaders\n",
    "\n",
    "train_data, val_data, test_data, data_loader = get_data_loaders(\n",
    "        cases=[\"exp\", \"AS\", \"pi\"],\n",
    "        doping=9.0,\n",
    "        max_shots=1200,\n",
    "        train_split=0.8)"
   ],
   "id": "73a8d04a302d2080",
   "outputs": [
    {
     "name": "stdout",
     "output_type": "stream",
     "text": [
      "exp\n",
      "mean stagg mag taken:  11.598333333333333\n",
      "mean stagg mag:  11.598333333333333\n",
      "1200  snapshots\n",
      "AS\n",
      "mean stagg mag taken:  11.986666666666666\n",
      "mean stagg mag:  11.986666666666666\n",
      "1200  snapshots\n",
      "pi\n",
      "mean stagg mag taken:  10.303333333333333\n",
      "mean stagg mag:  10.303333333333333\n",
      "1200  snapshots\n"
     ]
    }
   ],
   "execution_count": 13
  },
  {
   "metadata": {
    "ExecuteTime": {
     "end_time": "2025-01-26T15:04:02.928785Z",
     "start_time": "2025-01-26T15:04:02.867252Z"
    }
   },
   "cell_type": "code",
   "source": [
    "import pandas as pd\n",
    "\n",
    "x = loaded_model.predict(test_data)\n",
    "df = pd.DataFrame(x, columns=[\"exp\", \"AS\", \"pi\"])"
   ],
   "id": "ce27cbefa963ad58",
   "outputs": [
    {
     "name": "stdout",
     "output_type": "stream",
     "text": [
      "\u001B[1m12/12\u001B[0m \u001B[32m━━━━━━━━━━━━━━━━━━━━\u001B[0m\u001B[37m\u001B[0m \u001B[1m0s\u001B[0m 778us/step\n"
     ]
    }
   ],
   "execution_count": 14
  },
  {
   "metadata": {
    "ExecuteTime": {
     "end_time": "2025-01-26T15:04:03.900520Z",
     "start_time": "2025-01-26T15:04:03.768585Z"
    }
   },
   "cell_type": "code",
   "source": [
    "labels = []\n",
    "classes = {0: \"exp\", 1: \"AS\", 2: \"pi\"}\n",
    "for _, label in test_data:\n",
    "    for l in label:\n",
    "        labels.append(classes[list(l).index(1)])"
   ],
   "id": "c25aecd2a1c2f5ac",
   "outputs": [
    {
     "name": "stderr",
     "output_type": "stream",
     "text": [
      "2025-01-26 16:04:03.898853: W tensorflow/core/framework/local_rendezvous.cc:404] Local rendezvous is aborting with status: OUT_OF_RANGE: End of sequence\n"
     ]
    }
   ],
   "execution_count": 15
  },
  {
   "metadata": {
    "ExecuteTime": {
     "end_time": "2025-01-26T15:04:04.595690Z",
     "start_time": "2025-01-26T15:04:04.591522Z"
    }
   },
   "cell_type": "code",
   "source": [
    "df[\"label\"] = labels\n",
    "print(df)"
   ],
   "id": "836307bdec4bf6a6",
   "outputs": [
    {
     "name": "stdout",
     "output_type": "stream",
     "text": [
      "          exp        AS        pi label\n",
      "0    0.126376  0.843794  0.029830    AS\n",
      "1    0.014678  0.967967  0.017355    AS\n",
      "2    0.940582  0.000346  0.059072    pi\n",
      "3    0.629680  0.057678  0.312642    pi\n",
      "4    0.000550  0.000121  0.999328   exp\n",
      "..        ...       ...       ...   ...\n",
      "355  0.999794  0.000181  0.000026   exp\n",
      "356  0.916659  0.083338  0.000002   exp\n",
      "357  0.998518  0.001469  0.000013   exp\n",
      "358  0.995406  0.000314  0.004280   exp\n",
      "359  0.281921  0.035409  0.682670    AS\n",
      "\n",
      "[360 rows x 4 columns]\n"
     ]
    }
   ],
   "execution_count": 16
  },
  {
   "metadata": {
    "ExecuteTime": {
     "end_time": "2025-01-26T15:04:05.356702Z",
     "start_time": "2025-01-26T15:04:05.350159Z"
    }
   },
   "cell_type": "code",
   "source": "df[\"pred\"] = df[[\"exp\", \"AS\", \"pi\"]].idxmax(axis=1)",
   "id": "a12125264ae00e7b",
   "outputs": [],
   "execution_count": 17
  },
  {
   "metadata": {
    "ExecuteTime": {
     "end_time": "2025-01-26T15:04:06.095994Z",
     "start_time": "2025-01-26T15:04:06.088281Z"
    }
   },
   "cell_type": "code",
   "source": "df",
   "id": "a6b7fa1803e8d8e1",
   "outputs": [
    {
     "data": {
      "text/plain": [
       "          exp        AS        pi label pred\n",
       "0    0.126376  0.843794  0.029830    AS   AS\n",
       "1    0.014678  0.967967  0.017355    AS   AS\n",
       "2    0.940582  0.000346  0.059072    pi  exp\n",
       "3    0.629680  0.057678  0.312642    pi  exp\n",
       "4    0.000550  0.000121  0.999328   exp   pi\n",
       "..        ...       ...       ...   ...  ...\n",
       "355  0.999794  0.000181  0.000026   exp  exp\n",
       "356  0.916659  0.083338  0.000002   exp  exp\n",
       "357  0.998518  0.001469  0.000013   exp  exp\n",
       "358  0.995406  0.000314  0.004280   exp  exp\n",
       "359  0.281921  0.035409  0.682670    AS   pi\n",
       "\n",
       "[360 rows x 5 columns]"
      ],
      "text/html": [
       "<div>\n",
       "<style scoped>\n",
       "    .dataframe tbody tr th:only-of-type {\n",
       "        vertical-align: middle;\n",
       "    }\n",
       "\n",
       "    .dataframe tbody tr th {\n",
       "        vertical-align: top;\n",
       "    }\n",
       "\n",
       "    .dataframe thead th {\n",
       "        text-align: right;\n",
       "    }\n",
       "</style>\n",
       "<table border=\"1\" class=\"dataframe\">\n",
       "  <thead>\n",
       "    <tr style=\"text-align: right;\">\n",
       "      <th></th>\n",
       "      <th>exp</th>\n",
       "      <th>AS</th>\n",
       "      <th>pi</th>\n",
       "      <th>label</th>\n",
       "      <th>pred</th>\n",
       "    </tr>\n",
       "  </thead>\n",
       "  <tbody>\n",
       "    <tr>\n",
       "      <th>0</th>\n",
       "      <td>0.126376</td>\n",
       "      <td>0.843794</td>\n",
       "      <td>0.029830</td>\n",
       "      <td>AS</td>\n",
       "      <td>AS</td>\n",
       "    </tr>\n",
       "    <tr>\n",
       "      <th>1</th>\n",
       "      <td>0.014678</td>\n",
       "      <td>0.967967</td>\n",
       "      <td>0.017355</td>\n",
       "      <td>AS</td>\n",
       "      <td>AS</td>\n",
       "    </tr>\n",
       "    <tr>\n",
       "      <th>2</th>\n",
       "      <td>0.940582</td>\n",
       "      <td>0.000346</td>\n",
       "      <td>0.059072</td>\n",
       "      <td>pi</td>\n",
       "      <td>exp</td>\n",
       "    </tr>\n",
       "    <tr>\n",
       "      <th>3</th>\n",
       "      <td>0.629680</td>\n",
       "      <td>0.057678</td>\n",
       "      <td>0.312642</td>\n",
       "      <td>pi</td>\n",
       "      <td>exp</td>\n",
       "    </tr>\n",
       "    <tr>\n",
       "      <th>4</th>\n",
       "      <td>0.000550</td>\n",
       "      <td>0.000121</td>\n",
       "      <td>0.999328</td>\n",
       "      <td>exp</td>\n",
       "      <td>pi</td>\n",
       "    </tr>\n",
       "    <tr>\n",
       "      <th>...</th>\n",
       "      <td>...</td>\n",
       "      <td>...</td>\n",
       "      <td>...</td>\n",
       "      <td>...</td>\n",
       "      <td>...</td>\n",
       "    </tr>\n",
       "    <tr>\n",
       "      <th>355</th>\n",
       "      <td>0.999794</td>\n",
       "      <td>0.000181</td>\n",
       "      <td>0.000026</td>\n",
       "      <td>exp</td>\n",
       "      <td>exp</td>\n",
       "    </tr>\n",
       "    <tr>\n",
       "      <th>356</th>\n",
       "      <td>0.916659</td>\n",
       "      <td>0.083338</td>\n",
       "      <td>0.000002</td>\n",
       "      <td>exp</td>\n",
       "      <td>exp</td>\n",
       "    </tr>\n",
       "    <tr>\n",
       "      <th>357</th>\n",
       "      <td>0.998518</td>\n",
       "      <td>0.001469</td>\n",
       "      <td>0.000013</td>\n",
       "      <td>exp</td>\n",
       "      <td>exp</td>\n",
       "    </tr>\n",
       "    <tr>\n",
       "      <th>358</th>\n",
       "      <td>0.995406</td>\n",
       "      <td>0.000314</td>\n",
       "      <td>0.004280</td>\n",
       "      <td>exp</td>\n",
       "      <td>exp</td>\n",
       "    </tr>\n",
       "    <tr>\n",
       "      <th>359</th>\n",
       "      <td>0.281921</td>\n",
       "      <td>0.035409</td>\n",
       "      <td>0.682670</td>\n",
       "      <td>AS</td>\n",
       "      <td>pi</td>\n",
       "    </tr>\n",
       "  </tbody>\n",
       "</table>\n",
       "<p>360 rows × 5 columns</p>\n",
       "</div>"
      ]
     },
     "execution_count": 18,
     "metadata": {},
     "output_type": "execute_result"
    }
   ],
   "execution_count": 18
  },
  {
   "metadata": {
    "ExecuteTime": {
     "end_time": "2025-01-26T15:04:07.237673Z",
     "start_time": "2025-01-26T15:04:07.127003Z"
    }
   },
   "cell_type": "code",
   "source": [
    "import matplotlib.pyplot as plt\n",
    "import numpy as np\n",
    "\n",
    "# Define categories and calculate percentages\n",
    "categories = [\"exp\", \"AS\", \"pi\"]\n",
    "filtered = {c: df[df[\"label\"] == c] for c in categories}\n",
    "percentages = {\n",
    "    c: {d: len(filtered[c][filtered[c][\"pred\"] == d]) / len(filtered[c]) for d in categories}\n",
    "    for c in categories\n",
    "}\n",
    "\n",
    "# Convert percentages to a DataFrame for easier plotting\n",
    "percentages_df = pd.DataFrame(percentages).T\n",
    "\n",
    "# Plot\n",
    "fig, ax = plt.subplots(figsize=(10, 6))\n",
    "x = np.arange(len(categories))  # X-axis positions\n",
    "\n",
    "# Stacked bar chart\n",
    "bottoms = np.zeros(len(categories))  # Initialize the bottom position for stacking\n",
    "for pred in categories:\n",
    "    ax.bar(\n",
    "        x,\n",
    "        percentages_df[pred],\n",
    "        label=f'Predicted: {pred}',\n",
    "        bottom=bottoms\n",
    "    )\n",
    "    bottoms += percentages_df[pred]  # Update the bottom for stacking\n",
    "\n",
    "# Add labels, legend, and title\n",
    "ax.set_xlabel('Actual Categories')\n",
    "ax.set_ylabel('Percentage')\n",
    "ax.set_title('Stacked Bar Chart of Prediction Percentages')\n",
    "ax.set_xticks(x)\n",
    "ax.set_xticklabels(categories)\n",
    "ax.legend()\n",
    "\n",
    "# Show plot\n",
    "plt.tight_layout()\n",
    "plt.show()"
   ],
   "id": "a3b5b60b68e6874c",
   "outputs": [
    {
     "data": {
      "text/plain": [
       "<Figure size 1000x600 with 1 Axes>"
      ],
      "image/png": "[encoded data removed]"
     },
     "metadata": {},
     "output_type": "display_data"
    }
   ],
   "execution_count": 19
  },
  {
   "metadata": {
    "ExecuteTime": {
     "end_time": "2025-01-26T15:05:08.790581Z",
     "start_time": "2025-01-26T15:05:08.663953Z"
    }
   },
   "cell_type": "code",
   "source": [
    "import pandas as pd\n",
    "import matplotlib.pyplot as plt\n",
    "import numpy as np\n",
    "import seaborn as sns\n",
    "\n",
    "\n",
    "# Define categories and calculate percentages\n",
    "categories = [\"exp\", \"AS\", \"pi\"]\n",
    "filtered = {c: df[df[\"label\"] == c] for c in categories}\n",
    "percentages = {\n",
    "    c: {d: len(filtered[c][filtered[c][\"pred\"] == d]) / len(filtered[c]) for d in categories}\n",
    "    for c in categories\n",
    "}\n",
    "\n",
    "# Convert percentages to a DataFrame for easier plotting\n",
    "percentages_df = pd.DataFrame(percentages).T\n",
    "\n",
    "# Define custom colors to match the example image\n",
    "custom_colors = ['#98c892', '#5677b3', '#c8a78f']  # exp (green), AS (blue), pi (tan)\n",
    "\n",
    "# Plot with Seaborn styling\n",
    "sns.set(style=\"whitegrid\", font_scale=1.2)\n",
    "fig, ax = plt.subplots(figsize=(10, 6))\n",
    "x = np.arange(len(categories))  # X-axis positions\n",
    "\n",
    "# Stacked bar chart\n",
    "bottoms = np.zeros(len(categories))  # Initialize the bottom position for stacking\n",
    "for i, (pred, color) in enumerate(zip(categories, custom_colors)):\n",
    "    bars = ax.bar(\n",
    "        x,\n",
    "        percentages_df[pred],\n",
    "        label=f'{pred}',\n",
    "        color=color,\n",
    "        bottom=bottoms,\n",
    "        edgecolor='black'\n",
    "    )\n",
    "    # Add labels to the bars\n",
    "    for bar, actual_label, percentage in zip(bars, categories, percentages_df[pred]):\n",
    "        y_position = bar.get_height() / 2 + bar.get_y()\n",
    "        if pred == \"AS\":\n",
    "            label = \"strings\"\n",
    "        elif pred == \"pi\":\n",
    "            label = \"$\\\\pi$-flux\"\n",
    "        else:\n",
    "            label = pred\n",
    "        ax.text(\n",
    "            bar.get_x() + bar.get_width() / 2,  # Center text in bar\n",
    "            y_position,  # Place text in middle of bar\n",
    "            label,  # Label text\n",
    "            ha='center',  # Center horizontally\n",
    "            va='center',  # Center vertically\n",
    "            fontsize=10,  # Font size\n",
    "            color='white' if pred == \"AS\" else 'black',  # Contrast color for visibility\n",
    "            weight='bold'  # Bold font\n",
    "        )\n",
    "    bottoms += percentages_df[pred]  # Update the bottom for stacking\n",
    "\n",
    "# Add labels, legend, and title\n",
    "ax.set_xlabel('Actual Categories')\n",
    "ax.set_ylabel('Probability [%]')\n",
    "ax.set_title('Classifying single snapshots for doping 9.0')\n",
    "ax.set_xticks(x)\n",
    "ax.set_xticklabels(categories)\n",
    "ax.legend(title=\"Predicted\", loc='upper right', frameon=True)\n",
    "# Adjust aesthetics\n",
    "sns.despine()\n",
    "plt.tight_layout()\n",
    "plt.show()"
   ],
   "id": "21e106b891cfad3c",
   "outputs": [
    {
     "data": {
      "text/plain": [
       "<Figure size 1000x600 with 1 Axes>"
      ],
      "image/png": "[encoded data removed]"
     },
     "metadata": {},
     "output_type": "display_data"
    }
   ],
   "execution_count": 21
  },
  {
   "metadata": {
    "ExecuteTime": {
     "end_time": "2025-01-26T14:59:00.526860Z",
     "start_time": "2025-01-26T14:59:00.525101Z"
    }
   },
   "cell_type": "code",
   "source": "\n",
   "id": "b9ac7e74cbf46afb",
   "outputs": [],
   "execution_count": null
  },
  {
   "metadata": {},
   "cell_type": "code",
   "outputs": [],
   "execution_count": null,
   "source": "",
   "id": "84b135ca0fe8ed70"
  }
 ],
 "metadata": {
  "kernelspec": {
   "display_name": "Python 3",
   "language": "python",
   "name": "python3"
  },
  "language_info": {
   "codemirror_mode": {
    "name": "ipython",
    "version": 2
   },
   "file_extension": ".py",
   "mimetype": "text/x-python",
   "name": "python",
   "nbconvert_exporter": "python",
   "pygments_lexer": "ipython2",
   "version": "2.7.6"
  }
 },
 "nbformat": 4,
 "nbformat_minor": 5
}
