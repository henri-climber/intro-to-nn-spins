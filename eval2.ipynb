{
 "cells": [
  {
   "cell_type": "code",
   "id": "initial_id",
   "metadata": {
    "collapsed": true,
    "ExecuteTime": {
     "end_time": "2025-01-26T15:31:20.215185Z",
     "start_time": "2025-01-26T15:31:20.104926Z"
    }
   },
   "source": [
    "import tensorflow as tf\n",
    "\n",
    "loaded_model = tf.keras.models.load_model(\"Model/saved_model6_expAS.keras\")"
   ],
   "outputs": [],
   "execution_count": 24
  },
  {
   "metadata": {
    "ExecuteTime": {
     "end_time": "2025-01-26T15:31:50.048118Z",
     "start_time": "2025-01-26T15:31:47.670905Z"
    }
   },
   "cell_type": "code",
   "source": [
    "from DataLoader import get_data_loaders\n",
    "\n",
    "train_data, val_data, test_data, data_loader = get_data_loaders(\n",
    "        cases=[\"exp\", \"AS\", \"pi\"],\n",
    "        doping=6.0,\n",
    "        max_shots=1500,\n",
    "        combine_exp_as=True,\n",
    "        train_split=0.8)"
   ],
   "id": "fdae926fbaf95439",
   "outputs": [
    {
     "name": "stdout",
     "output_type": "stream",
     "text": [
      "exp\n",
      "mean stagg mag taken:  12.748\n",
      "mean stagg mag:  12.748\n",
      "1500  snapshots\n",
      "AS\n",
      "mean stagg mag taken:  13.577333333333334\n",
      "mean stagg mag:  13.577333333333334\n",
      "1500  snapshots\n",
      "pi\n",
      "mean stagg mag taken:  10.909333333333333\n",
      "mean stagg mag:  10.909333333333333\n",
      "1500  snapshots\n"
     ]
    }
   ],
   "execution_count": 25
  },
  {
   "metadata": {
    "ExecuteTime": {
     "end_time": "2025-01-26T15:31:52.215512Z",
     "start_time": "2025-01-26T15:31:52.010408Z"
    }
   },
   "cell_type": "code",
   "source": [
    "import pandas as pd\n",
    "\n",
    "x = loaded_model.predict(test_data)\n",
    "df = pd.DataFrame(x, columns=[\"exp+AS\", \"pi\"])\n",
    "\n",
    "labels = []\n",
    "classes = {0: \"exp+AS\", 1: \"pi\"}\n",
    "for _, label in test_data:\n",
    "    for l in label:\n",
    "        labels.append(classes[list(l).index(1)])\n",
    "len(labels)"
   ],
   "id": "f81e49dc1abda4a",
   "outputs": [
    {
     "name": "stdout",
     "output_type": "stream",
     "text": [
      "\u001B[1m15/15\u001B[0m \u001B[32m━━━━━━━━━━━━━━━━━━━━\u001B[0m\u001B[37m\u001B[0m \u001B[1m0s\u001B[0m 3ms/step \n"
     ]
    },
    {
     "name": "stderr",
     "output_type": "stream",
     "text": [
      "2025-01-26 16:31:52.213199: W tensorflow/core/framework/local_rendezvous.cc:404] Local rendezvous is aborting with status: OUT_OF_RANGE: End of sequence\n"
     ]
    },
    {
     "data": {
      "text/plain": [
       "450"
      ]
     },
     "execution_count": 26,
     "metadata": {},
     "output_type": "execute_result"
    }
   ],
   "execution_count": 26
  },
  {
   "metadata": {
    "ExecuteTime": {
     "end_time": "2025-01-26T15:31:52.885306Z",
     "start_time": "2025-01-26T15:31:52.878173Z"
    }
   },
   "cell_type": "code",
   "source": [
    "df[\"label\"] = labels\n",
    "df[\"pred\"] = df[[\"exp+AS\", \"pi\"]].idxmax(axis=1)\n",
    "df"
   ],
   "id": "1f4cdab236b5d915",
   "outputs": [
    {
     "data": {
      "text/plain": [
       "       exp+AS            pi   label    pred\n",
       "0    0.481728  5.182719e-01  exp+AS      pi\n",
       "1    0.414592  5.854076e-01      pi      pi\n",
       "2    0.999981  1.944081e-05  exp+AS  exp+AS\n",
       "3    1.000000  5.059147e-09  exp+AS  exp+AS\n",
       "4    0.998052  1.948176e-03  exp+AS  exp+AS\n",
       "..        ...           ...     ...     ...\n",
       "445  0.771766  2.282337e-01  exp+AS  exp+AS\n",
       "446  0.702696  2.973043e-01  exp+AS  exp+AS\n",
       "447  0.351079  6.489210e-01      pi      pi\n",
       "448  0.946571  5.342921e-02      pi  exp+AS\n",
       "449  0.728041  2.719590e-01  exp+AS  exp+AS\n",
       "\n",
       "[450 rows x 4 columns]"
      ],
      "text/html": [
       "<div>\n",
       "<style scoped>\n",
       "    .dataframe tbody tr th:only-of-type {\n",
       "        vertical-align: middle;\n",
       "    }\n",
       "\n",
       "    .dataframe tbody tr th {\n",
       "        vertical-align: top;\n",
       "    }\n",
       "\n",
       "    .dataframe thead th {\n",
       "        text-align: right;\n",
       "    }\n",
       "</style>\n",
       "<table border=\"1\" class=\"dataframe\">\n",
       "  <thead>\n",
       "    <tr style=\"text-align: right;\">\n",
       "      <th></th>\n",
       "      <th>exp+AS</th>\n",
       "      <th>pi</th>\n",
       "      <th>label</th>\n",
       "      <th>pred</th>\n",
       "    </tr>\n",
       "  </thead>\n",
       "  <tbody>\n",
       "    <tr>\n",
       "      <th>0</th>\n",
       "      <td>0.481728</td>\n",
       "      <td>5.182719e-01</td>\n",
       "      <td>exp+AS</td>\n",
       "      <td>pi</td>\n",
       "    </tr>\n",
       "    <tr>\n",
       "      <th>1</th>\n",
       "      <td>0.414592</td>\n",
       "      <td>5.854076e-01</td>\n",
       "      <td>pi</td>\n",
       "      <td>pi</td>\n",
       "    </tr>\n",
       "    <tr>\n",
       "      <th>2</th>\n",
       "      <td>0.999981</td>\n",
       "      <td>1.944081e-05</td>\n",
       "      <td>exp+AS</td>\n",
       "      <td>exp+AS</td>\n",
       "    </tr>\n",
       "    <tr>\n",
       "      <th>3</th>\n",
       "      <td>1.000000</td>\n",
       "      <td>5.059147e-09</td>\n",
       "      <td>exp+AS</td>\n",
       "      <td>exp+AS</td>\n",
       "    </tr>\n",
       "    <tr>\n",
       "      <th>4</th>\n",
       "      <td>0.998052</td>\n",
       "      <td>1.948176e-03</td>\n",
       "      <td>exp+AS</td>\n",
       "      <td>exp+AS</td>\n",
       "    </tr>\n",
       "    <tr>\n",
       "      <th>...</th>\n",
       "      <td>...</td>\n",
       "      <td>...</td>\n",
       "      <td>...</td>\n",
       "      <td>...</td>\n",
       "    </tr>\n",
       "    <tr>\n",
       "      <th>445</th>\n",
       "      <td>0.771766</td>\n",
       "      <td>2.282337e-01</td>\n",
       "      <td>exp+AS</td>\n",
       "      <td>exp+AS</td>\n",
       "    </tr>\n",
       "    <tr>\n",
       "      <th>446</th>\n",
       "      <td>0.702696</td>\n",
       "      <td>2.973043e-01</td>\n",
       "      <td>exp+AS</td>\n",
       "      <td>exp+AS</td>\n",
       "    </tr>\n",
       "    <tr>\n",
       "      <th>447</th>\n",
       "      <td>0.351079</td>\n",
       "      <td>6.489210e-01</td>\n",
       "      <td>pi</td>\n",
       "      <td>pi</td>\n",
       "    </tr>\n",
       "    <tr>\n",
       "      <th>448</th>\n",
       "      <td>0.946571</td>\n",
       "      <td>5.342921e-02</td>\n",
       "      <td>pi</td>\n",
       "      <td>exp+AS</td>\n",
       "    </tr>\n",
       "    <tr>\n",
       "      <th>449</th>\n",
       "      <td>0.728041</td>\n",
       "      <td>2.719590e-01</td>\n",
       "      <td>exp+AS</td>\n",
       "      <td>exp+AS</td>\n",
       "    </tr>\n",
       "  </tbody>\n",
       "</table>\n",
       "<p>450 rows × 4 columns</p>\n",
       "</div>"
      ]
     },
     "execution_count": 27,
     "metadata": {},
     "output_type": "execute_result"
    }
   ],
   "execution_count": 27
  },
  {
   "metadata": {
    "ExecuteTime": {
     "end_time": "2025-01-26T15:31:56.043164Z",
     "start_time": "2025-01-26T15:31:55.943336Z"
    }
   },
   "cell_type": "code",
   "source": [
    "import pandas as pd\n",
    "import matplotlib.pyplot as plt\n",
    "import numpy as np\n",
    "import seaborn as sns\n",
    "\n",
    "\n",
    "# Define categories and calculate percentages\n",
    "categories = [\"exp+AS\", \"pi\"]\n",
    "filtered = {c: df[df[\"label\"] == c] for c in categories}\n",
    "percentages = {\n",
    "    c: {d: len(filtered[c][filtered[c][\"pred\"] == d]) / len(filtered[c]) for d in categories}\n",
    "    for c in categories\n",
    "}\n",
    "\n",
    "# Convert percentages to a DataFrame for easier plotting\n",
    "percentages_df = pd.DataFrame(percentages).T\n",
    "\n",
    "# Define custom colors to match the example image\n",
    "custom_colors = ['#98c892', '#c8a78f']  # exp (green), AS (blue), pi (tan)\n",
    "\n",
    "# Plot with Seaborn styling\n",
    "sns.set(style=\"whitegrid\", font_scale=1.2)\n",
    "fig, ax = plt.subplots(figsize=(10, 6))\n",
    "x = np.arange(len(categories))  # X-axis positions\n",
    "\n",
    "# Stacked bar chart\n",
    "bottoms = np.zeros(len(categories))  # Initialize the bottom position for stacking\n",
    "for i, (pred, color) in enumerate(zip(categories, custom_colors)):\n",
    "    bars = ax.bar(\n",
    "        x,\n",
    "        percentages_df[pred],\n",
    "        label=f'{pred}',\n",
    "        color=color,\n",
    "        bottom=bottoms,\n",
    "        edgecolor='black'\n",
    "    )\n",
    "    # Add labels to the bars\n",
    "    for bar, actual_label, percentage in zip(bars, categories, percentages_df[pred]):\n",
    "        y_position = bar.get_height() / 2 + bar.get_y()\n",
    "        if pred == \"exp+AS\":\n",
    "            label = \"exp+strings\"\n",
    "        elif pred == \"pi\":\n",
    "            label = \"$\\\\pi$-flux\"\n",
    "        else:\n",
    "            label = pred\n",
    "        ax.text(\n",
    "            bar.get_x() + bar.get_width() / 2,  # Center text in bar\n",
    "            y_position,  # Place text in middle of bar\n",
    "            label,  # Label text\n",
    "            ha='center',  # Center horizontally\n",
    "            va='center',  # Center vertically\n",
    "            fontsize=10,  # Font size\n",
    "            color='black',  # Black text color\n",
    "            weight='bold'  # Bold font\n",
    "        )\n",
    "    bottoms += percentages_df[pred]  # Update the bottom for stacking\n",
    "\n",
    "# Add labels, legend, and title\n",
    "ax.set_xlabel('Actual Categories')\n",
    "ax.set_ylabel('Probability [%]')\n",
    "ax.set_title('Classifying single snapshots for doping 9.0 with combined exp and string')\n",
    "ax.set_xticks(x)\n",
    "ax.set_xticklabels(categories)\n",
    "ax.legend(title=\"Predicted\", loc='upper right', frameon=True)\n",
    "# Adjust aesthetics\n",
    "sns.despine()\n",
    "plt.tight_layout()\n",
    "plt.show()"
   ],
   "id": "fcbb2fc847bf6da9",
   "outputs": [
    {
     "data": {
      "text/plain": [
       "<Figure size 1000x600 with 1 Axes>"
      ],
      "image/png": "[encoded data removed]"
     },
     "metadata": {},
     "output_type": "display_data"
    }
   ],
   "execution_count": 28
  },
  {
   "metadata": {
    "ExecuteTime": {
     "end_time": "2025-01-26T15:19:46.071510Z",
     "start_time": "2025-01-26T15:19:46.069138Z"
    }
   },
   "cell_type": "code",
   "source": "",
   "id": "1d2af1b7f02944fe",
   "outputs": [],
   "execution_count": null
  },
  {
   "metadata": {},
   "cell_type": "code",
   "outputs": [],
   "execution_count": null,
   "source": "",
   "id": "be875e036a26ed2"
  }
 ],
 "metadata": {
  "kernelspec": {
   "display_name": "Python 3",
   "language": "python",
   "name": "python3"
  },
  "language_info": {
   "codemirror_mode": {
    "name": "ipython",
    "version": 2
   },
   "file_extension": ".py",
   "mimetype": "text/x-python",
   "name": "python",
   "nbconvert_exporter": "python",
   "pygments_lexer": "ipython2",
   "version": "2.7.6"
  }
 },
 "nbformat": 4,
 "nbformat_minor": 5
}
