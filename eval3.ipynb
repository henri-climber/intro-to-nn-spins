{
 "cells": [
  {
   "cell_type": "code",
   "id": "initial_id",
   "metadata": {
    "collapsed": true,
    "ExecuteTime": {
     "end_time": "2025-01-26T15:55:23.247102Z",
     "start_time": "2025-01-26T15:55:23.129771Z"
    }
   },
   "source": [
    "import tensorflow as tf\n",
    "\n",
    "\n",
    "loaded_model6 = tf.keras.models.load_model(\"Model/saved_model6_withoutExp.keras\")\n",
    "loaded_model9 = tf.keras.models.load_model(\"Model/saved_model9_withoutExp.keras\")\n",
    "\n"
   ],
   "outputs": [],
   "execution_count": 22
  },
  {
   "metadata": {
    "ExecuteTime": {
     "end_time": "2025-01-26T15:56:35.035627Z",
     "start_time": "2025-01-26T15:56:34.048912Z"
    }
   },
   "cell_type": "code",
   "source": [
    "from DataLoader import get_data_loaders\n",
    "\n",
    "train_data6, val_data6, test_data6, data_loader6 = get_data_loaders(\n",
    "        cases=[\"exp\"],\n",
    "        doping=6.0,\n",
    "        max_shots=1500,\n",
    "        train_split=0.9,\n",
    "        val_split = 0.01)\n",
    "\n",
    "train_data9, val_data9, test_data9, data_loader9 = get_data_loaders(\n",
    "    cases=[\"exp\"],\n",
    "    doping=9.0,\n",
    "    max_shots=1200,\n",
    "    train_split=0.9,\n",
    "    val_split = 0.01)\n"
   ],
   "id": "3147b3e4867d567",
   "outputs": [
    {
     "name": "stdout",
     "output_type": "stream",
     "text": [
      "exp\n",
      "mean stagg mag taken:  12.648\n",
      "mean stagg mag:  12.648\n",
      "1500  snapshots\n",
      "exp\n",
      "mean stagg mag taken:  11.628333333333334\n",
      "mean stagg mag:  11.628333333333334\n",
      "1200  snapshots\n"
     ]
    }
   ],
   "execution_count": 26
  },
  {
   "metadata": {
    "ExecuteTime": {
     "end_time": "2025-01-26T15:56:37.268215Z",
     "start_time": "2025-01-26T15:56:37.260419Z"
    }
   },
   "cell_type": "code",
   "source": [
    "data6=train_data6.concatenate(val_data6).concatenate(test_data6)\n",
    "data9=train_data9.concatenate(val_data9).concatenate(test_data9)\n"
   ],
   "id": "b11938182bde6766",
   "outputs": [],
   "execution_count": 27
  },
  {
   "metadata": {
    "ExecuteTime": {
     "end_time": "2025-01-26T15:57:44.408672Z",
     "start_time": "2025-01-26T15:57:43.771733Z"
    }
   },
   "cell_type": "code",
   "source": [
    "import pandas as pd\n",
    "\n",
    "x6 = loaded_model6.predict(data6)\n",
    "df6 = pd.DataFrame(x6, columns=[\"AS\", \"pi\"])\n",
    "\n",
    "x9 = loaded_model9.predict(data9)\n",
    "df9 = pd.DataFrame(x9, columns=[\"AS\", \"pi\"])\n",
    "\n",
    "labels6 = []\n",
    "labels9 = []\n",
    "classes = {0: \"AS\", 1: \"pi\"}\n",
    "for _, label in data6:\n",
    "    for l in label:\n",
    "        labels6.append(classes[list(l).index(1)])\n",
    "\n",
    "for _, label in data9:\n",
    "    for l in label:\n",
    "        labels9.append(classes[list(l).index(1)])\n",
    "\n",
    "print(len(labels6), \"|\", len(labels9))\n"
   ],
   "id": "df35d809bb3663e",
   "outputs": [
    {
     "name": "stdout",
     "output_type": "stream",
     "text": [
      "\u001B[1m49/49\u001B[0m \u001B[32m━━━━━━━━━━━━━━━━━━━━\u001B[0m\u001B[37m\u001B[0m \u001B[1m0s\u001B[0m 958us/step\n",
      "\u001B[1m39/39\u001B[0m \u001B[32m━━━━━━━━━━━━━━━━━━━━\u001B[0m\u001B[37m\u001B[0m \u001B[1m0s\u001B[0m 1ms/step \n"
     ]
    },
    {
     "name": "stderr",
     "output_type": "stream",
     "text": [
      "2025-01-26 16:57:44.202159: W tensorflow/core/framework/local_rendezvous.cc:404] Local rendezvous is aborting with status: OUT_OF_RANGE: End of sequence\n"
     ]
    },
    {
     "name": "stdout",
     "output_type": "stream",
     "text": [
      "1500 | 1200\n"
     ]
    },
    {
     "name": "stderr",
     "output_type": "stream",
     "text": [
      "2025-01-26 16:57:44.406686: W tensorflow/core/framework/local_rendezvous.cc:404] Local rendezvous is aborting with status: OUT_OF_RANGE: End of sequence\n"
     ]
    }
   ],
   "execution_count": 28
  },
  {
   "metadata": {
    "ExecuteTime": {
     "end_time": "2025-01-26T15:58:27.954211Z",
     "start_time": "2025-01-26T15:58:27.945339Z"
    }
   },
   "cell_type": "code",
   "source": [
    "df6[\"pred\"] = df6[[\"AS\", \"pi\"]].idxmax(axis=1)\n",
    "df9[\"pred\"] = df9[[\"AS\", \"pi\"]].idxmax(axis=1)\n",
    "df9"
   ],
   "id": "6811c88d2835d2a3",
   "outputs": [
    {
     "data": {
      "text/plain": [
       "                AS            pi pred\n",
       "0     1.659780e-05  9.999835e-01   pi\n",
       "1     9.999201e-01  7.993709e-05   AS\n",
       "2     9.975686e-01  2.431419e-03   AS\n",
       "3     9.973135e-01  2.686544e-03   AS\n",
       "4     8.072234e-01  1.927765e-01   AS\n",
       "...            ...           ...  ...\n",
       "1195  9.966355e-01  3.364542e-03   AS\n",
       "1196  4.172291e-01  5.827709e-01   pi\n",
       "1197  3.382124e-05  9.999662e-01   pi\n",
       "1198  1.954012e-07  9.999998e-01   pi\n",
       "1199  9.999999e-01  6.145038e-08   AS\n",
       "\n",
       "[1200 rows x 3 columns]"
      ],
      "text/html": [
       "<div>\n",
       "<style scoped>\n",
       "    .dataframe tbody tr th:only-of-type {\n",
       "        vertical-align: middle;\n",
       "    }\n",
       "\n",
       "    .dataframe tbody tr th {\n",
       "        vertical-align: top;\n",
       "    }\n",
       "\n",
       "    .dataframe thead th {\n",
       "        text-align: right;\n",
       "    }\n",
       "</style>\n",
       "<table border=\"1\" class=\"dataframe\">\n",
       "  <thead>\n",
       "    <tr style=\"text-align: right;\">\n",
       "      <th></th>\n",
       "      <th>AS</th>\n",
       "      <th>pi</th>\n",
       "      <th>pred</th>\n",
       "    </tr>\n",
       "  </thead>\n",
       "  <tbody>\n",
       "    <tr>\n",
       "      <th>0</th>\n",
       "      <td>1.659780e-05</td>\n",
       "      <td>9.999835e-01</td>\n",
       "      <td>pi</td>\n",
       "    </tr>\n",
       "    <tr>\n",
       "      <th>1</th>\n",
       "      <td>9.999201e-01</td>\n",
       "      <td>7.993709e-05</td>\n",
       "      <td>AS</td>\n",
       "    </tr>\n",
       "    <tr>\n",
       "      <th>2</th>\n",
       "      <td>9.975686e-01</td>\n",
       "      <td>2.431419e-03</td>\n",
       "      <td>AS</td>\n",
       "    </tr>\n",
       "    <tr>\n",
       "      <th>3</th>\n",
       "      <td>9.973135e-01</td>\n",
       "      <td>2.686544e-03</td>\n",
       "      <td>AS</td>\n",
       "    </tr>\n",
       "    <tr>\n",
       "      <th>4</th>\n",
       "      <td>8.072234e-01</td>\n",
       "      <td>1.927765e-01</td>\n",
       "      <td>AS</td>\n",
       "    </tr>\n",
       "    <tr>\n",
       "      <th>...</th>\n",
       "      <td>...</td>\n",
       "      <td>...</td>\n",
       "      <td>...</td>\n",
       "    </tr>\n",
       "    <tr>\n",
       "      <th>1195</th>\n",
       "      <td>9.966355e-01</td>\n",
       "      <td>3.364542e-03</td>\n",
       "      <td>AS</td>\n",
       "    </tr>\n",
       "    <tr>\n",
       "      <th>1196</th>\n",
       "      <td>4.172291e-01</td>\n",
       "      <td>5.827709e-01</td>\n",
       "      <td>pi</td>\n",
       "    </tr>\n",
       "    <tr>\n",
       "      <th>1197</th>\n",
       "      <td>3.382124e-05</td>\n",
       "      <td>9.999662e-01</td>\n",
       "      <td>pi</td>\n",
       "    </tr>\n",
       "    <tr>\n",
       "      <th>1198</th>\n",
       "      <td>1.954012e-07</td>\n",
       "      <td>9.999998e-01</td>\n",
       "      <td>pi</td>\n",
       "    </tr>\n",
       "    <tr>\n",
       "      <th>1199</th>\n",
       "      <td>9.999999e-01</td>\n",
       "      <td>6.145038e-08</td>\n",
       "      <td>AS</td>\n",
       "    </tr>\n",
       "  </tbody>\n",
       "</table>\n",
       "<p>1200 rows × 3 columns</p>\n",
       "</div>"
      ]
     },
     "execution_count": 32,
     "metadata": {},
     "output_type": "execute_result"
    }
   ],
   "execution_count": 32
  },
  {
   "metadata": {
    "ExecuteTime": {
     "end_time": "2025-01-26T16:05:05.772230Z",
     "start_time": "2025-01-26T16:05:05.688142Z"
    }
   },
   "cell_type": "code",
   "source": [
    "import seaborn as sns\n",
    "import matplotlib.pyplot as plt\n",
    "\n",
    "# Combine the two datasets and calculate percentages\n",
    "df_combined = {\n",
    "    \"Doping\": [\"6.0\", \"9.0\"],\n",
    "    \"AS\": [len(df6[df6[\"pred\"] == \"AS\"]) / len(df6) * 100, len(df9[df9[\"pred\"] == \"AS\"]) / len(df9) * 100],\n",
    "    \"pi\": [len(df6[df6[\"pred\"] == \"pi\"]) / len(df6) * 100, len(df9[df9[\"pred\"] == \"pi\"]) / len(df9) * 100]\n",
    "}\n",
    "df_combined = pd.DataFrame(df_combined)\n",
    "\n",
    "# Define custom colors and bar width\n",
    "colors = ['#5677b3', '#c8a78f']  # AS (blue), pi (tan)\n",
    "bar_width = 0.2\n",
    "\n",
    "# Plotting\n",
    "sns.set(style=\"whitegrid\", font_scale=1.2)\n",
    "fig, ax = plt.subplots(figsize=(6, 6))\n",
    "x = range(len(df_combined))  # X positions for each doping value\n",
    "\n",
    "# Plot AS and pi bars\n",
    "ax.bar(x, df_combined[\"AS\"], width=bar_width, color=colors[0], label=\"strings\", edgecolor=\"black\")\n",
    "ax.bar(x, -df_combined[\"pi\"], width=bar_width, color=colors[1], label=\"pi\", edgecolor=\"black\")\n",
    "\n",
    "# Add labels, title, and legend\n",
    "ax.set_xticks(x)\n",
    "ax.set_xticklabels(df_combined[\"Doping\"])\n",
    "ax.set_ylabel(\"Percentage (%)\")\n",
    "ax.set_xlabel(\"Doping Values\")\n",
    "ax.set_title(\"strings vs. pi Predictions for Different Doping Levels\")\n",
    "ax.legend(title=\"Prediction Types\", loc=\"upper right\")\n",
    "\n",
    "# Add grid and improve aesthetics\n",
    "sns.despine()\n",
    "plt.tight_layout()\n",
    "plt.show()"
   ],
   "id": "db18612d843ce3e3",
   "outputs": [
    {
     "data": {
      "text/plain": [
       "<Figure size 600x600 with 1 Axes>"
      ],
      "image/png": "[encoded data removed]"
     },
     "metadata": {},
     "output_type": "display_data"
    }
   ],
   "execution_count": 40
  },
  {
   "metadata": {
    "ExecuteTime": {
     "end_time": "2025-01-26T16:04:45.496254Z",
     "start_time": "2025-01-26T16:04:45.479462Z"
    }
   },
   "cell_type": "code",
   "source": "df_combined",
   "id": "b4bc8037f8dd7cd7",
   "outputs": [
    {
     "data": {
      "text/plain": [
       "  Doping    AS    pi\n",
       "0    6.0  59.6  40.4\n",
       "1    9.0  55.5  44.5"
      ],
      "text/html": [
       "<div>\n",
       "<style scoped>\n",
       "    .dataframe tbody tr th:only-of-type {\n",
       "        vertical-align: middle;\n",
       "    }\n",
       "\n",
       "    .dataframe tbody tr th {\n",
       "        vertical-align: top;\n",
       "    }\n",
       "\n",
       "    .dataframe thead th {\n",
       "        text-align: right;\n",
       "    }\n",
       "</style>\n",
       "<table border=\"1\" class=\"dataframe\">\n",
       "  <thead>\n",
       "    <tr style=\"text-align: right;\">\n",
       "      <th></th>\n",
       "      <th>Doping</th>\n",
       "      <th>AS</th>\n",
       "      <th>pi</th>\n",
       "    </tr>\n",
       "  </thead>\n",
       "  <tbody>\n",
       "    <tr>\n",
       "      <th>0</th>\n",
       "      <td>6.0</td>\n",
       "      <td>59.6</td>\n",
       "      <td>40.4</td>\n",
       "    </tr>\n",
       "    <tr>\n",
       "      <th>1</th>\n",
       "      <td>9.0</td>\n",
       "      <td>55.5</td>\n",
       "      <td>44.5</td>\n",
       "    </tr>\n",
       "  </tbody>\n",
       "</table>\n",
       "</div>"
      ]
     },
     "execution_count": 39,
     "metadata": {},
     "output_type": "execute_result"
    }
   ],
   "execution_count": 39
  },
  {
   "metadata": {},
   "cell_type": "code",
   "outputs": [],
   "execution_count": null,
   "source": "",
   "id": "d7c1029cd8e4306c"
  }
 ],
 "metadata": {
  "kernelspec": {
   "display_name": "Python 3",
   "language": "python",
   "name": "python3"
  },
  "language_info": {
   "codemirror_mode": {
    "name": "ipython",
    "version": 2
   },
   "file_extension": ".py",
   "mimetype": "text/x-python",
   "name": "python",
   "nbconvert_exporter": "python",
   "pygments_lexer": "ipython2",
   "version": "2.7.6"
  }
 },
 "nbformat": 4,
 "nbformat_minor": 5
}
