{
 "cells": [
  {
   "cell_type": "code",
   "id": "initial_id",
   "metadata": {
    "collapsed": true,
    "ExecuteTime": {
     "end_time": "2025-01-25T13:30:21.487050Z",
     "start_time": "2025-01-25T13:30:15.868945Z"
    }
   },
   "source": [
    "from DataLoader import get_data_loaders\n",
    "\n",
    "train_data, val_data, test_data, data_loader = get_data_loaders(\n",
    "        cases=[\"AS\", \"exp\", \"pi\"],\n",
    "        doping=6.0,\n",
    "        max_shots=1000,\n",
    "        train_split=0.8)\n",
    " \n"
   ],
   "outputs": [
    {
     "name": "stdout",
     "output_type": "stream",
     "text": [
      "AS\n"
     ]
    },
    {
     "ename": "FileNotFoundError",
     "evalue": "[Errno 2] No such file or directory: 'StringDataDopingGrouped/Doping AS/d6.0.pkl'",
     "output_type": "error",
     "traceback": [
      "\u001B[1;31m---------------------------------------------------------------------------\u001B[0m",
      "\u001B[1;31mFileNotFoundError\u001B[0m                         Traceback (most recent call last)",
      "Cell \u001B[1;32mIn[1], line 3\u001B[0m\n\u001B[0;32m      1\u001B[0m \u001B[38;5;28;01mfrom\u001B[39;00m \u001B[38;5;21;01mDataLoader\u001B[39;00m \u001B[38;5;28;01mimport\u001B[39;00m get_data_loaders\n\u001B[1;32m----> 3\u001B[0m train_data, val_data, test_data, data_loader \u001B[38;5;241m=\u001B[39m \u001B[43mget_data_loaders\u001B[49m\u001B[43m(\u001B[49m\n\u001B[0;32m      4\u001B[0m \u001B[43m        \u001B[49m\u001B[43mcases\u001B[49m\u001B[38;5;241;43m=\u001B[39;49m\u001B[43m[\u001B[49m\u001B[38;5;124;43m\"\u001B[39;49m\u001B[38;5;124;43mAS\u001B[39;49m\u001B[38;5;124;43m\"\u001B[39;49m\u001B[43m,\u001B[49m\u001B[43m \u001B[49m\u001B[38;5;124;43m\"\u001B[39;49m\u001B[38;5;124;43mexp\u001B[39;49m\u001B[38;5;124;43m\"\u001B[39;49m\u001B[43m,\u001B[49m\u001B[43m \u001B[49m\u001B[38;5;124;43m\"\u001B[39;49m\u001B[38;5;124;43mpi\u001B[39;49m\u001B[38;5;124;43m\"\u001B[39;49m\u001B[43m]\u001B[49m\u001B[43m,\u001B[49m\n\u001B[0;32m      5\u001B[0m \u001B[43m        \u001B[49m\u001B[43mdoping\u001B[49m\u001B[38;5;241;43m=\u001B[39;49m\u001B[38;5;241;43m6.0\u001B[39;49m\u001B[43m,\u001B[49m\n\u001B[0;32m      6\u001B[0m \u001B[43m        \u001B[49m\u001B[43mmax_shots\u001B[49m\u001B[38;5;241;43m=\u001B[39;49m\u001B[38;5;241;43m1000\u001B[39;49m\u001B[43m,\u001B[49m\n\u001B[0;32m      7\u001B[0m \u001B[43m        \u001B[49m\u001B[43mtrain_split\u001B[49m\u001B[38;5;241;43m=\u001B[39;49m\u001B[38;5;241;43m0.8\u001B[39;49m\u001B[43m)\u001B[49m\n",
      "File \u001B[1;32mD:\\Programmieren\\Python\\AI and ML\\spins\\DataLoader.py:233\u001B[0m, in \u001B[0;36mget_data_loaders\u001B[1;34m(cases, doping, max_shots, target_size, batch_size, train_split)\u001B[0m\n\u001B[0;32m    218\u001B[0m \u001B[38;5;28;01mdef\u001B[39;00m \u001B[38;5;21mget_data_loaders\u001B[39m(cases, doping, max_shots, target_size\u001B[38;5;241m=\u001B[39m(\u001B[38;5;241m10\u001B[39m, \u001B[38;5;241m10\u001B[39m), batch_size\u001B[38;5;241m=\u001B[39m\u001B[38;5;241m32\u001B[39m, train_split\u001B[38;5;241m=\u001B[39m\u001B[38;5;241m0.8\u001B[39m) \u001B[38;5;241m-\u001B[39m\u001B[38;5;241m>\u001B[39m \u001B[38;5;28mtuple\u001B[39m[\n\u001B[0;32m    219\u001B[0m     tf\u001B[38;5;241m.\u001B[39mdata\u001B[38;5;241m.\u001B[39mDataset, tf\u001B[38;5;241m.\u001B[39mdata\u001B[38;5;241m.\u001B[39mDataset, tf\u001B[38;5;241m.\u001B[39mdata\u001B[38;5;241m.\u001B[39mDataset, DataLoader]:\n\u001B[0;32m    220\u001B[0m \u001B[38;5;250m    \u001B[39m\u001B[38;5;124;03m\"\"\"\u001B[39;00m\n\u001B[0;32m    221\u001B[0m \u001B[38;5;124;03m    Create TensorFlow datasets for training and testing.\u001B[39;00m\n\u001B[0;32m    222\u001B[0m \u001B[38;5;124;03m    \u001B[39;00m\n\u001B[1;32m   (...)\u001B[0m\n\u001B[0;32m    231\u001B[0m \u001B[38;5;124;03m        tuple: (train_dataset, test_dataset, data_loader_obj)\u001B[39;00m\n\u001B[0;32m    232\u001B[0m \u001B[38;5;124;03m    \"\"\"\u001B[39;00m\n\u001B[1;32m--> 233\u001B[0m     data_loader_obj \u001B[38;5;241m=\u001B[39m \u001B[43mDataLoader\u001B[49m\u001B[43m(\u001B[49m\u001B[43mcases\u001B[49m\u001B[43m,\u001B[49m\u001B[43m \u001B[49m\u001B[43mdoping\u001B[49m\u001B[43m,\u001B[49m\u001B[43m \u001B[49m\u001B[43mmax_shots\u001B[49m\u001B[43m,\u001B[49m\u001B[43m \u001B[49m\u001B[43mtarget_size\u001B[49m\u001B[38;5;241;43m=\u001B[39;49m\u001B[43mtarget_size\u001B[49m\u001B[43m,\u001B[49m\u001B[43m \u001B[49m\u001B[43mtrain_split\u001B[49m\u001B[38;5;241;43m=\u001B[39;49m\u001B[43mtrain_split\u001B[49m\u001B[43m)\u001B[49m\n\u001B[0;32m    234\u001B[0m     train_dataset,val_dataset, test_dataset \u001B[38;5;241m=\u001B[39m data_loader_obj\u001B[38;5;241m.\u001B[39mget_tf_dataset(batch_size\u001B[38;5;241m=\u001B[39mbatch_size)\n\u001B[0;32m    236\u001B[0m     \u001B[38;5;28;01mreturn\u001B[39;00m train_dataset, val_dataset, test_dataset, data_loader_obj\n",
      "File \u001B[1;32mD:\\Programmieren\\Python\\AI and ML\\spins\\DataLoader.py:26\u001B[0m, in \u001B[0;36mDataLoader.__init__\u001B[1;34m(self, cases, doping, max_shots, target_size, train_split, val_split)\u001B[0m\n\u001B[0;32m     23\u001B[0m \u001B[38;5;28mself\u001B[39m\u001B[38;5;241m.\u001B[39mtarget_size \u001B[38;5;241m=\u001B[39m target_size\n\u001B[0;32m     25\u001B[0m \u001B[38;5;66;03m# Load the raw data\u001B[39;00m\n\u001B[1;32m---> 26\u001B[0m samples, labels, \u001B[38;5;28mself\u001B[39m\u001B[38;5;241m.\u001B[39msms \u001B[38;5;241m=\u001B[39m \u001B[43mloading\u001B[49m\u001B[43m(\u001B[49m\u001B[43mcases\u001B[49m\u001B[43m,\u001B[49m\u001B[43m \u001B[49m\u001B[43mdoping\u001B[49m\u001B[43m,\u001B[49m\u001B[43m \u001B[49m\u001B[43mmax_shots\u001B[49m\u001B[43m)\u001B[49m\n\u001B[0;32m     28\u001B[0m \u001B[38;5;66;03m# Convert to numpy arrays\u001B[39;00m\n\u001B[0;32m     29\u001B[0m \u001B[38;5;28mself\u001B[39m\u001B[38;5;241m.\u001B[39msamples \u001B[38;5;241m=\u001B[39m np\u001B[38;5;241m.\u001B[39marray(samples, dtype\u001B[38;5;241m=\u001B[39mnp\u001B[38;5;241m.\u001B[39mfloat32)\n",
      "File \u001B[1;32mD:\\Programmieren\\Python\\AI and ML\\spins\\loadSnapshots.py:29\u001B[0m, in \u001B[0;36mloading\u001B[1;34m(cases, doping, maxShots, visualize)\u001B[0m\n\u001B[0;32m     27\u001B[0m     pickle_in \u001B[38;5;241m=\u001B[39m \u001B[38;5;28mopen\u001B[39m(\u001B[38;5;124m\"\u001B[39m\u001B[38;5;124mStringDataDopingGrouped/Doping \u001B[39m\u001B[38;5;124m\"\u001B[39m \u001B[38;5;241m+\u001B[39m case \u001B[38;5;241m+\u001B[39m \u001B[38;5;124m\"\u001B[39m\u001B[38;5;124m/big_d\u001B[39m\u001B[38;5;124m\"\u001B[39m \u001B[38;5;241m+\u001B[39m \u001B[38;5;28mstr\u001B[39m(doping) \u001B[38;5;241m+\u001B[39m \u001B[38;5;124m\"\u001B[39m\u001B[38;5;124m.pkl\u001B[39m\u001B[38;5;124m\"\u001B[39m, \u001B[38;5;124m\"\u001B[39m\u001B[38;5;124mrb\u001B[39m\u001B[38;5;124m\"\u001B[39m)\n\u001B[0;32m     28\u001B[0m \u001B[38;5;28;01melse\u001B[39;00m:\n\u001B[1;32m---> 29\u001B[0m     pickle_in \u001B[38;5;241m=\u001B[39m \u001B[38;5;28;43mopen\u001B[39;49m\u001B[43m(\u001B[49m\u001B[38;5;124;43m\"\u001B[39;49m\u001B[38;5;124;43mStringDataDopingGrouped/Doping \u001B[39;49m\u001B[38;5;124;43m\"\u001B[39;49m\u001B[43m \u001B[49m\u001B[38;5;241;43m+\u001B[39;49m\u001B[43m \u001B[49m\u001B[43mcase\u001B[49m\u001B[43m \u001B[49m\u001B[38;5;241;43m+\u001B[39;49m\u001B[43m \u001B[49m\u001B[38;5;124;43m\"\u001B[39;49m\u001B[38;5;124;43m/d\u001B[39;49m\u001B[38;5;124;43m\"\u001B[39;49m\u001B[43m \u001B[49m\u001B[38;5;241;43m+\u001B[39;49m\u001B[43m \u001B[49m\u001B[38;5;28;43mstr\u001B[39;49m\u001B[43m(\u001B[49m\u001B[43mdoping\u001B[49m\u001B[43m)\u001B[49m\u001B[43m \u001B[49m\u001B[38;5;241;43m+\u001B[39;49m\u001B[43m \u001B[49m\u001B[38;5;124;43m\"\u001B[39;49m\u001B[38;5;124;43m.pkl\u001B[39;49m\u001B[38;5;124;43m\"\u001B[39;49m\u001B[43m,\u001B[49m\u001B[43m \u001B[49m\u001B[38;5;124;43m\"\u001B[39;49m\u001B[38;5;124;43mrb\u001B[39;49m\u001B[38;5;124;43m\"\u001B[39;49m\u001B[43m)\u001B[49m\n\u001B[0;32m     31\u001B[0m am \u001B[38;5;241m=\u001B[39m pickle\u001B[38;5;241m.\u001B[39mload(pickle_in, encoding\u001B[38;5;241m=\u001B[39m\u001B[38;5;124m'\u001B[39m\u001B[38;5;124mlatin1\u001B[39m\u001B[38;5;124m'\u001B[39m)\n\u001B[0;32m     33\u001B[0m sample_tmp \u001B[38;5;241m=\u001B[39m []\n",
      "\u001B[1;31mFileNotFoundError\u001B[0m: [Errno 2] No such file or directory: 'StringDataDopingGrouped/Doping AS/d6.0.pkl'"
     ]
    }
   ],
   "execution_count": 1
  },
  {
   "metadata": {
    "ExecuteTime": {
     "end_time": "2025-01-22T09:15:14.705352Z",
     "start_time": "2025-01-22T09:15:14.698805Z"
    }
   },
   "cell_type": "code",
   "source": "len(val_data)",
   "id": "3dc32f38db1fb768",
   "outputs": [
    {
     "data": {
      "text/plain": [
       "10"
      ]
     },
     "execution_count": 7,
     "metadata": {},
     "output_type": "execute_result"
    }
   ],
   "execution_count": 7
  },
  {
   "metadata": {
    "ExecuteTime": {
     "end_time": "2025-01-22T09:13:28.512543Z",
     "start_time": "2025-01-22T09:13:28.494844Z"
    }
   },
   "cell_type": "code",
   "source": [
    "# Convert the first batch of the training dataset to NumPy arrays\n",
    "for sample, label in train_data.take(1).as_numpy_iterator():\n",
    "    print(\"Sample:\", sample[0])\n",
    "    print(\"Label:\", label[0])\n",
    "    break"
   ],
   "id": "8b1bd172cecf185e",
   "outputs": [
    {
     "name": "stdout",
     "output_type": "stream",
     "text": [
      "Sample: [[[ 0.]\n",
      "  [ 0.]\n",
      "  [ 0.]\n",
      "  [ 1.]\n",
      "  [-1.]\n",
      "  [ 1.]\n",
      "  [ 1.]\n",
      "  [ 0.]\n",
      "  [ 0.]\n",
      "  [ 0.]]\n",
      "\n",
      " [[ 0.]\n",
      "  [-1.]\n",
      "  [ 1.]\n",
      "  [-1.]\n",
      "  [ 1.]\n",
      "  [ 1.]\n",
      "  [-1.]\n",
      "  [ 1.]\n",
      "  [-1.]\n",
      "  [ 0.]]\n",
      "\n",
      " [[ 0.]\n",
      "  [ 1.]\n",
      "  [-1.]\n",
      "  [ 1.]\n",
      "  [-1.]\n",
      "  [-1.]\n",
      "  [ 1.]\n",
      "  [-1.]\n",
      "  [ 1.]\n",
      "  [ 0.]]\n",
      "\n",
      " [[-1.]\n",
      "  [-1.]\n",
      "  [-1.]\n",
      "  [ 1.]\n",
      "  [-1.]\n",
      "  [ 1.]\n",
      "  [-1.]\n",
      "  [-1.]\n",
      "  [-1.]\n",
      "  [-1.]]\n",
      "\n",
      " [[-1.]\n",
      "  [ 1.]\n",
      "  [-1.]\n",
      "  [-1.]\n",
      "  [-1.]\n",
      "  [-1.]\n",
      "  [ 1.]\n",
      "  [-1.]\n",
      "  [ 1.]\n",
      "  [ 1.]]\n",
      "\n",
      " [[ 1.]\n",
      "  [-1.]\n",
      "  [ 1.]\n",
      "  [ 1.]\n",
      "  [-1.]\n",
      "  [-1.]\n",
      "  [ 1.]\n",
      "  [-1.]\n",
      "  [ 1.]\n",
      "  [ 1.]]\n",
      "\n",
      " [[-1.]\n",
      "  [-1.]\n",
      "  [ 1.]\n",
      "  [ 1.]\n",
      "  [ 1.]\n",
      "  [-1.]\n",
      "  [ 1.]\n",
      "  [ 1.]\n",
      "  [-1.]\n",
      "  [-1.]]\n",
      "\n",
      " [[ 0.]\n",
      "  [-1.]\n",
      "  [ 1.]\n",
      "  [ 1.]\n",
      "  [-1.]\n",
      "  [ 1.]\n",
      "  [-1.]\n",
      "  [ 1.]\n",
      "  [-1.]\n",
      "  [ 0.]]\n",
      "\n",
      " [[ 0.]\n",
      "  [ 1.]\n",
      "  [-1.]\n",
      "  [-1.]\n",
      "  [-1.]\n",
      "  [ 1.]\n",
      "  [-1.]\n",
      "  [-1.]\n",
      "  [-1.]\n",
      "  [ 0.]]\n",
      "\n",
      " [[ 0.]\n",
      "  [ 0.]\n",
      "  [ 0.]\n",
      "  [ 1.]\n",
      "  [ 1.]\n",
      "  [-1.]\n",
      "  [-1.]\n",
      "  [ 0.]\n",
      "  [ 0.]\n",
      "  [ 0.]]]\n",
      "Label: [1. 0. 0.]\n"
     ]
    }
   ],
   "execution_count": 2
  },
  {
   "metadata": {
    "ExecuteTime": {
     "end_time": "2025-01-22T09:13:29.622838Z",
     "start_time": "2025-01-22T09:13:29.601560Z"
    }
   },
   "cell_type": "code",
   "source": [
    "import tensorflow as tf \n",
    "\n",
    "# create a simple cnn model with 2 conv layers, 2 max pooling layers, and 2 dense layers  with a categorical output\n",
    "model = tf.keras.models.Sequential([\n",
    "    tf.keras.layers.Conv2D(32, (3, 3), activation='relu'),\n",
    "    tf.keras.layers.MaxPooling2D((2, 2)),\n",
    "    tf.keras.layers.Conv2D(64, (3, 3), activation='relu'),\n",
    "    tf.keras.layers.MaxPooling2D((2, 2)),\n",
    "    tf.keras.layers.Flatten(),\n",
    "    tf.keras.layers.Dense(64, activation='relu'),\n",
    "    tf.keras.layers.Dense(3, activation='softmax')\n",
    "])\n",
    "\n",
    "\n",
    "\n",
    "\n",
    "# compile the model\n",
    "model.compile(optimizer='adam',\n",
    "                loss='categorical_crossentropy',\n",
    "                metrics=['accuracy'])\n",
    "\n",
    "    "
   ],
   "id": "ed17afdb878b999c",
   "outputs": [],
   "execution_count": 3
  },
  {
   "metadata": {
    "ExecuteTime": {
     "end_time": "2025-01-22T09:14:25.013194Z",
     "start_time": "2025-01-22T09:14:01.241136Z"
    }
   },
   "cell_type": "code",
   "source": [
    "# early stopping\n",
    "early_stopping = tf.keras.callbacks.EarlyStopping(\n",
    "    monitor='val_loss', min_delta=0, patience=5, verbose=0, mode='auto',\n",
    "    baseline=None, restore_best_weights=False\n",
    ")\n",
    "\n",
    "# fit the model\n",
    "model.fit(train_data, validation_data=val_data, epochs=30)"
   ],
   "id": "4ff6522e5190e678",
   "outputs": [
    {
     "name": "stdout",
     "output_type": "stream",
     "text": [
      "Epoch 1/30\n",
      "\u001B[1m75/75\u001B[0m \u001B[32m━━━━━━━━━━━━━━━━━━━━\u001B[0m\u001B[37m\u001B[0m \u001B[1m1s\u001B[0m 10ms/step - accuracy: 0.5466 - loss: 0.9426 - val_accuracy: 0.3633 - val_loss: 1.1984\n",
      "Epoch 2/30\n",
      "\u001B[1m75/75\u001B[0m \u001B[32m━━━━━━━━━━━━━━━━━━━━\u001B[0m\u001B[37m\u001B[0m \u001B[1m1s\u001B[0m 10ms/step - accuracy: 0.5736 - loss: 0.9056 - val_accuracy: 0.3833 - val_loss: 1.1917\n",
      "Epoch 3/30\n",
      "\u001B[1m75/75\u001B[0m \u001B[32m━━━━━━━━━━━━━━━━━━━━\u001B[0m\u001B[37m\u001B[0m \u001B[1m1s\u001B[0m 9ms/step - accuracy: 0.6013 - loss: 0.8644 - val_accuracy: 0.3500 - val_loss: 1.2633\n",
      "Epoch 4/30\n",
      "\u001B[1m75/75\u001B[0m \u001B[32m━━━━━━━━━━━━━━━━━━━━\u001B[0m\u001B[37m\u001B[0m \u001B[1m1s\u001B[0m 10ms/step - accuracy: 0.6265 - loss: 0.8350 - val_accuracy: 0.3667 - val_loss: 1.2706\n",
      "Epoch 5/30\n",
      "\u001B[1m75/75\u001B[0m \u001B[32m━━━━━━━━━━━━━━━━━━━━\u001B[0m\u001B[37m\u001B[0m \u001B[1m1s\u001B[0m 10ms/step - accuracy: 0.6608 - loss: 0.7860 - val_accuracy: 0.3633 - val_loss: 1.3427\n",
      "Epoch 6/30\n",
      "\u001B[1m75/75\u001B[0m \u001B[32m━━━━━━━━━━━━━━━━━━━━\u001B[0m\u001B[37m\u001B[0m \u001B[1m1s\u001B[0m 10ms/step - accuracy: 0.6888 - loss: 0.7429 - val_accuracy: 0.3567 - val_loss: 1.4139\n",
      "Epoch 7/30\n",
      "\u001B[1m75/75\u001B[0m \u001B[32m━━━━━━━━━━━━━━━━━━━━\u001B[0m\u001B[37m\u001B[0m \u001B[1m1s\u001B[0m 10ms/step - accuracy: 0.7118 - loss: 0.6936 - val_accuracy: 0.3633 - val_loss: 1.4860\n",
      "Epoch 8/30\n",
      "\u001B[1m75/75\u001B[0m \u001B[32m━━━━━━━━━━━━━━━━━━━━\u001B[0m\u001B[37m\u001B[0m \u001B[1m1s\u001B[0m 11ms/step - accuracy: 0.7362 - loss: 0.6388 - val_accuracy: 0.3433 - val_loss: 1.5380\n",
      "Epoch 9/30\n",
      "\u001B[1m75/75\u001B[0m \u001B[32m━━━━━━━━━━━━━━━━━━━━\u001B[0m\u001B[37m\u001B[0m \u001B[1m1s\u001B[0m 11ms/step - accuracy: 0.7629 - loss: 0.5811 - val_accuracy: 0.3600 - val_loss: 1.5737\n",
      "Epoch 10/30\n",
      "\u001B[1m75/75\u001B[0m \u001B[32m━━━━━━━━━━━━━━━━━━━━\u001B[0m\u001B[37m\u001B[0m \u001B[1m1s\u001B[0m 11ms/step - accuracy: 0.8011 - loss: 0.5244 - val_accuracy: 0.3500 - val_loss: 1.6020\n",
      "Epoch 11/30\n",
      "\u001B[1m75/75\u001B[0m \u001B[32m━━━━━━━━━━━━━━━━━━━━\u001B[0m\u001B[37m\u001B[0m \u001B[1m1s\u001B[0m 11ms/step - accuracy: 0.8354 - loss: 0.4645 - val_accuracy: 0.3467 - val_loss: 1.6680\n",
      "Epoch 12/30\n",
      "\u001B[1m75/75\u001B[0m \u001B[32m━━━━━━━━━━━━━━━━━━━━\u001B[0m\u001B[37m\u001B[0m \u001B[1m1s\u001B[0m 12ms/step - accuracy: 0.8625 - loss: 0.4096 - val_accuracy: 0.3600 - val_loss: 1.7449\n",
      "Epoch 13/30\n",
      "\u001B[1m75/75\u001B[0m \u001B[32m━━━━━━━━━━━━━━━━━━━━\u001B[0m\u001B[37m\u001B[0m \u001B[1m1s\u001B[0m 12ms/step - accuracy: 0.8928 - loss: 0.3583 - val_accuracy: 0.3500 - val_loss: 1.8257\n",
      "Epoch 14/30\n",
      "\u001B[1m75/75\u001B[0m \u001B[32m━━━━━━━━━━━━━━━━━━━━\u001B[0m\u001B[37m\u001B[0m \u001B[1m1s\u001B[0m 10ms/step - accuracy: 0.9146 - loss: 0.3153 - val_accuracy: 0.3400 - val_loss: 1.9820\n",
      "Epoch 15/30\n",
      "\u001B[1m75/75\u001B[0m \u001B[32m━━━━━━━━━━━━━━━━━━━━\u001B[0m\u001B[37m\u001B[0m \u001B[1m1s\u001B[0m 11ms/step - accuracy: 0.9229 - loss: 0.2809 - val_accuracy: 0.3367 - val_loss: 2.1627\n",
      "Epoch 16/30\n",
      "\u001B[1m75/75\u001B[0m \u001B[32m━━━━━━━━━━━━━━━━━━━━\u001B[0m\u001B[37m\u001B[0m \u001B[1m1s\u001B[0m 10ms/step - accuracy: 0.9018 - loss: 0.2972 - val_accuracy: 0.3467 - val_loss: 2.1970\n",
      "Epoch 17/30\n",
      "\u001B[1m75/75\u001B[0m \u001B[32m━━━━━━━━━━━━━━━━━━━━\u001B[0m\u001B[37m\u001B[0m \u001B[1m1s\u001B[0m 10ms/step - accuracy: 0.8376 - loss: 0.4116 - val_accuracy: 0.4133 - val_loss: 2.0238\n",
      "Epoch 18/30\n",
      "\u001B[1m75/75\u001B[0m \u001B[32m━━━━━━━━━━━━━━━━━━━━\u001B[0m\u001B[37m\u001B[0m \u001B[1m1s\u001B[0m 10ms/step - accuracy: 0.7759 - loss: 0.5316 - val_accuracy: 0.3900 - val_loss: 2.3562\n",
      "Epoch 19/30\n",
      "\u001B[1m75/75\u001B[0m \u001B[32m━━━━━━━━━━━━━━━━━━━━\u001B[0m\u001B[37m\u001B[0m \u001B[1m1s\u001B[0m 10ms/step - accuracy: 0.7698 - loss: 0.5430 - val_accuracy: 0.3967 - val_loss: 1.7726\n",
      "Epoch 20/30\n",
      "\u001B[1m75/75\u001B[0m \u001B[32m━━━━━━━━━━━━━━━━━━━━\u001B[0m\u001B[37m\u001B[0m \u001B[1m1s\u001B[0m 11ms/step - accuracy: 0.8378 - loss: 0.3820 - val_accuracy: 0.3267 - val_loss: 2.6618\n",
      "Epoch 21/30\n",
      "\u001B[1m75/75\u001B[0m \u001B[32m━━━━━━━━━━━━━━━━━━━━\u001B[0m\u001B[37m\u001B[0m \u001B[1m1s\u001B[0m 10ms/step - accuracy: 0.8781 - loss: 0.3225 - val_accuracy: 0.3267 - val_loss: 2.8384\n",
      "Epoch 22/30\n",
      "\u001B[1m75/75\u001B[0m \u001B[32m━━━━━━━━━━━━━━━━━━━━\u001B[0m\u001B[37m\u001B[0m \u001B[1m1s\u001B[0m 10ms/step - accuracy: 0.8718 - loss: 0.3241 - val_accuracy: 0.3433 - val_loss: 2.7713\n",
      "Epoch 23/30\n",
      "\u001B[1m75/75\u001B[0m \u001B[32m━━━━━━━━━━━━━━━━━━━━\u001B[0m\u001B[37m\u001B[0m \u001B[1m1s\u001B[0m 11ms/step - accuracy: 0.8731 - loss: 0.3130 - val_accuracy: 0.3867 - val_loss: 2.6050\n",
      "Epoch 24/30\n",
      "\u001B[1m75/75\u001B[0m \u001B[32m━━━━━━━━━━━━━━━━━━━━\u001B[0m\u001B[37m\u001B[0m \u001B[1m1s\u001B[0m 10ms/step - accuracy: 0.8686 - loss: 0.3029 - val_accuracy: 0.3767 - val_loss: 2.4483\n",
      "Epoch 25/30\n",
      "\u001B[1m75/75\u001B[0m \u001B[32m━━━━━━━━━━━━━━━━━━━━\u001B[0m\u001B[37m\u001B[0m \u001B[1m1s\u001B[0m 11ms/step - accuracy: 0.8382 - loss: 0.3409 - val_accuracy: 0.3867 - val_loss: 2.4406\n",
      "Epoch 26/30\n",
      "\u001B[1m75/75\u001B[0m \u001B[32m━━━━━━━━━━━━━━━━━━━━\u001B[0m\u001B[37m\u001B[0m \u001B[1m1s\u001B[0m 11ms/step - accuracy: 0.7995 - loss: 0.4425 - val_accuracy: 0.3467 - val_loss: 2.0532\n",
      "Epoch 27/30\n",
      "\u001B[1m75/75\u001B[0m \u001B[32m━━━━━━━━━━━━━━━━━━━━\u001B[0m\u001B[37m\u001B[0m \u001B[1m1s\u001B[0m 11ms/step - accuracy: 0.8591 - loss: 0.3613 - val_accuracy: 0.3667 - val_loss: 1.9469\n",
      "Epoch 28/30\n",
      "\u001B[1m75/75\u001B[0m \u001B[32m━━━━━━━━━━━━━━━━━━━━\u001B[0m\u001B[37m\u001B[0m \u001B[1m1s\u001B[0m 11ms/step - accuracy: 0.8426 - loss: 0.3645 - val_accuracy: 0.3967 - val_loss: 1.8939\n",
      "Epoch 29/30\n",
      "\u001B[1m75/75\u001B[0m \u001B[32m━━━━━━━━━━━━━━━━━━━━\u001B[0m\u001B[37m\u001B[0m \u001B[1m1s\u001B[0m 11ms/step - accuracy: 0.8460 - loss: 0.3822 - val_accuracy: 0.4200 - val_loss: 1.9508\n",
      "Epoch 30/30\n",
      "\u001B[1m75/75\u001B[0m \u001B[32m━━━━━━━━━━━━━━━━━━━━\u001B[0m\u001B[37m\u001B[0m \u001B[1m1s\u001B[0m 11ms/step - accuracy: 0.8159 - loss: 0.4790 - val_accuracy: 0.3867 - val_loss: 1.7926\n"
     ]
    },
    {
     "data": {
      "text/plain": [
       "<keras.src.callbacks.history.History at 0x177d02450>"
      ]
     },
     "execution_count": 5,
     "metadata": {},
     "output_type": "execute_result"
    }
   ],
   "execution_count": 5
  },
  {
   "metadata": {
    "ExecuteTime": {
     "end_time": "2025-01-22T08:56:12.433011Z",
     "start_time": "2025-01-22T08:56:12.432965Z"
    }
   },
   "cell_type": "code",
   "source": "model.history.history",
   "id": "f74edefbacf11107",
   "outputs": [],
   "execution_count": null
  },
  {
   "metadata": {
    "ExecuteTime": {
     "end_time": "2025-01-22T08:51:47.736386Z",
     "start_time": "2025-01-22T08:51:47.385761Z"
    }
   },
   "cell_type": "code",
   "source": [
    "# Evaluate the model on the test data\n",
    "model.evaluate(test_data)"
   ],
   "id": "64de8b071254663d",
   "outputs": [
    {
     "name": "stdout",
     "output_type": "stream",
     "text": [
      "\u001B[1m19/19\u001B[0m \u001B[32m━━━━━━━━━━━━━━━━━━━━\u001B[0m\u001B[37m\u001B[0m \u001B[1m0s\u001B[0m 12ms/step - accuracy: 0.4063 - loss: 1.1813\n"
     ]
    },
    {
     "data": {
      "text/plain": [
       "[1.164759874343872, 0.4000000059604645]"
      ]
     },
     "execution_count": 14,
     "metadata": {},
     "output_type": "execute_result"
    }
   ],
   "execution_count": 14
  },
  {
   "metadata": {
    "ExecuteTime": {
     "end_time": "2025-01-22T08:53:50.835391Z",
     "start_time": "2025-01-22T08:53:50.831801Z"
    }
   },
   "cell_type": "code",
   "source": "model.history.history",
   "id": "a83bb0321ae7cd6",
   "outputs": [
    {
     "data": {
      "text/plain": [
       "{}"
      ]
     },
     "execution_count": 20,
     "metadata": {},
     "output_type": "execute_result"
    }
   ],
   "execution_count": 20
  },
  {
   "metadata": {
    "ExecuteTime": {
     "end_time": "2025-01-25T13:30:08.984832Z",
     "start_time": "2025-01-25T13:30:07.834084Z"
    }
   },
   "cell_type": "code",
   "source": [
    "# visualize training\n",
    "import matplotlib.pyplot as plt\n",
    "\n",
    "def plot_training(history):\n",
    "    plt.plot(history.history['accuracy'])\n",
    "    plt.title('model accuracy')\n",
    "    plt.ylabel('accuracy')\n",
    "    plt.xlabel('epoch')\n",
    "    plt.legend(['train'], loc='upper left')\n",
    "    plt.show()\n",
    "    \n",
    "    plt.plot(history.history['loss'])\n",
    "    plt.title('model loss')\n",
    "    plt.ylabel('loss')\n",
    "    plt.xlabel('epoch')\n",
    "    plt.legend(['train'], loc='upper left')\n",
    "    plt.show()\n",
    "    \n",
    "plot_training(model.history)\n"
   ],
   "id": "e7586c895456370d",
   "outputs": [
    {
     "ename": "NameError",
     "evalue": "name 'model' is not defined",
     "output_type": "error",
     "traceback": [
      "\u001B[1;31m---------------------------------------------------------------------------\u001B[0m",
      "\u001B[1;31mNameError\u001B[0m                                 Traceback (most recent call last)",
      "Cell \u001B[1;32mIn[1], line 19\u001B[0m\n\u001B[0;32m     16\u001B[0m     plt\u001B[38;5;241m.\u001B[39mlegend([\u001B[38;5;124m'\u001B[39m\u001B[38;5;124mtrain\u001B[39m\u001B[38;5;124m'\u001B[39m], loc\u001B[38;5;241m=\u001B[39m\u001B[38;5;124m'\u001B[39m\u001B[38;5;124mupper left\u001B[39m\u001B[38;5;124m'\u001B[39m)\n\u001B[0;32m     17\u001B[0m     plt\u001B[38;5;241m.\u001B[39mshow()\n\u001B[1;32m---> 19\u001B[0m plot_training(\u001B[43mmodel\u001B[49m\u001B[38;5;241m.\u001B[39mhistory)\n",
      "\u001B[1;31mNameError\u001B[0m: name 'model' is not defined"
     ]
    }
   ],
   "execution_count": 1
  },
  {
   "metadata": {},
   "cell_type": "code",
   "outputs": [],
   "execution_count": null,
   "source": "",
   "id": "6452506573468976"
  }
 ],
 "metadata": {
  "kernelspec": {
   "display_name": "Python 3",
   "language": "python",
   "name": "python3"
  },
  "language_info": {
   "codemirror_mode": {
    "name": "ipython",
    "version": 2
   },
   "file_extension": ".py",
   "mimetype": "text/x-python",
   "name": "python",
   "nbconvert_exporter": "python",
   "pygments_lexer": "ipython2",
   "version": "2.7.6"
  }
 },
 "nbformat": 4,
 "nbformat_minor": 5
}
