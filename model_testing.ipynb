{
 "cells": [
  {
   "cell_type": "code",
   "id": "initial_id",
   "metadata": {
    "collapsed": true,
    "ExecuteTime": {
     "end_time": "2025-01-22T09:13:22.687414Z",
     "start_time": "2025-01-22T09:13:18.693135Z"
    }
   },
   "source": [
    "from DataLoader import get_data_loaders\n",
    "\n",
    "train_data, val_data, test_data, data_loader = get_data_loaders(\n",
    "        cases=[\"AS\", \"exp\", \"pi\"],\n",
    "        doping=6.0,\n",
    "        max_shots=1000,\n",
    "        train_split=0.8)\n",
    " \n"
   ],
   "outputs": [
    {
     "name": "stdout",
     "output_type": "stream",
     "text": [
      "AS\n",
      "mean stagg mag taken:  13.844\n",
      "mean stagg mag:  13.844\n",
      "1000  snapshots\n",
      "exp\n",
      "mean stagg mag taken:  12.834\n",
      "mean stagg mag:  12.834\n",
      "1000  snapshots\n",
      "pi\n",
      "mean stagg mag taken:  10.718\n",
      "mean stagg mag:  10.718\n",
      "1000  snapshots\n"
     ]
    },
    {
     "name": "stderr",
     "output_type": "stream",
     "text": [
      "2025-01-22 10:13:22.612105: I metal_plugin/src/device/metal_device.cc:1154] Metal device set to: Apple M3 Pro\n",
      "2025-01-22 10:13:22.612135: I metal_plugin/src/device/metal_device.cc:296] systemMemory: 18.00 GB\n",
      "2025-01-22 10:13:22.612144: I metal_plugin/src/device/metal_device.cc:313] maxCacheSize: 6.00 GB\n",
      "2025-01-22 10:13:22.612158: I tensorflow/core/common_runtime/pluggable_device/pluggable_device_factory.cc:305] Could not identify NUMA node of platform GPU ID 0, defaulting to 0. Your kernel may not have been built with NUMA support.\n",
      "2025-01-22 10:13:22.612167: I tensorflow/core/common_runtime/pluggable_device/pluggable_device_factory.cc:271] Created TensorFlow device (/job:localhost/replica:0/task:0/device:GPU:0 with 0 MB memory) -> physical PluggableDevice (device: 0, name: METAL, pci bus id: <undefined>)\n"
     ]
    }
   ],
   "execution_count": 1
  },
  {
   "metadata": {
    "ExecuteTime": {
     "end_time": "2025-01-22T09:15:14.705352Z",
     "start_time": "2025-01-22T09:15:14.698805Z"
    }
   },
   "cell_type": "code",
   "source": "len(val_data)",
   "id": "3dc32f38db1fb768",
   "outputs": [
    {
     "data": {
      "text/plain": [
       "10"
      ]
     },
     "execution_count": 7,
     "metadata": {},
     "output_type": "execute_result"
    }
   ],
   "execution_count": 7
  },
  {
   "metadata": {
    "ExecuteTime": {
     "end_time": "2025-01-22T09:13:28.512543Z",
     "start_time": "2025-01-22T09:13:28.494844Z"
    }
   },
   "cell_type": "code",
   "source": [
    "# Convert the first batch of the training dataset to NumPy arrays\n",
    "for sample, label in train_data.take(1).as_numpy_iterator():\n",
    "    print(\"Sample:\", sample[0])\n",
    "    print(\"Label:\", label[0])\n",
    "    break"
   ],
   "id": "8b1bd172cecf185e",
   "outputs": [
    {
     "name": "stdout",
     "output_type": "stream",
     "text": [
      "Sample: [[[ 0.]\n",
      "  [ 0.]\n",
      "  [ 0.]\n",
      "  [ 1.]\n",
      "  [-1.]\n",
      "  [ 1.]\n",
      "  [ 1.]\n",
      "  [ 0.]\n",
      "  [ 0.]\n",
      "  [ 0.]]\n",
      "\n",
      " [[ 0.]\n",
      "  [-1.]\n",
      "  [ 1.]\n",
      "  [-1.]\n",
      "  [ 1.]\n",
      "  [ 1.]\n",
      "  [-1.]\n",
      "  [ 1.]\n",
      "  [-1.]\n",
      "  [ 0.]]\n",
      "\n",
      " [[ 0.]\n",
      "  [ 1.]\n",
      "  [-1.]\n",
      "  [ 1.]\n",
      "  [-1.]\n",
      "  [-1.]\n",
      "  [ 1.]\n",
      "  [-1.]\n",
      "  [ 1.]\n",
      "  [ 0.]]\n",
      "\n",
      " [[-1.]\n",
      "  [-1.]\n",
      "  [-1.]\n",
      "  [ 1.]\n",
      "  [-1.]\n",
      "  [ 1.]\n",
      "  [-1.]\n",
      "  [-1.]\n",
      "  [-1.]\n",
      "  [-1.]]\n",
      "\n",
      " [[-1.]\n",
      "  [ 1.]\n",
      "  [-1.]\n",
      "  [-1.]\n",
      "  [-1.]\n",
      "  [-1.]\n",
      "  [ 1.]\n",
      "  [-1.]\n",
      "  [ 1.]\n",
      "  [ 1.]]\n",
      "\n",
      " [[ 1.]\n",
      "  [-1.]\n",
      "  [ 1.]\n",
      "  [ 1.]\n",
      "  [-1.]\n",
      "  [-1.]\n",
      "  [ 1.]\n",
      "  [-1.]\n",
      "  [ 1.]\n",
      "  [ 1.]]\n",
      "\n",
      " [[-1.]\n",
      "  [-1.]\n",
      "  [ 1.]\n",
      "  [ 1.]\n",
      "  [ 1.]\n",
      "  [-1.]\n",
      "  [ 1.]\n",
      "  [ 1.]\n",
      "  [-1.]\n",
      "  [-1.]]\n",
      "\n",
      " [[ 0.]\n",
      "  [-1.]\n",
      "  [ 1.]\n",
      "  [ 1.]\n",
      "  [-1.]\n",
      "  [ 1.]\n",
      "  [-1.]\n",
      "  [ 1.]\n",
      "  [-1.]\n",
      "  [ 0.]]\n",
      "\n",
      " [[ 0.]\n",
      "  [ 1.]\n",
      "  [-1.]\n",
      "  [-1.]\n",
      "  [-1.]\n",
      "  [ 1.]\n",
      "  [-1.]\n",
      "  [-1.]\n",
      "  [-1.]\n",
      "  [ 0.]]\n",
      "\n",
      " [[ 0.]\n",
      "  [ 0.]\n",
      "  [ 0.]\n",
      "  [ 1.]\n",
      "  [ 1.]\n",
      "  [-1.]\n",
      "  [-1.]\n",
      "  [ 0.]\n",
      "  [ 0.]\n",
      "  [ 0.]]]\n",
      "Label: [1. 0. 0.]\n"
     ]
    }
   ],
   "execution_count": 2
  },
  {
   "metadata": {
    "ExecuteTime": {
     "end_time": "2025-01-22T09:13:29.622838Z",
     "start_time": "2025-01-22T09:13:29.601560Z"
    }
   },
   "cell_type": "code",
   "source": [
    "import tensorflow as tf \n",
    "\n",
    "# create a simple cnn model with 2 conv layers, 2 max pooling layers, and 2 dense layers  with a categorical output\n",
    "model = tf.keras.models.Sequential([\n",
    "    tf.keras.layers.Conv2D(32, (3, 3), activation='relu'),\n",
    "    tf.keras.layers.MaxPooling2D((2, 2)),\n",
    "    tf.keras.layers.Conv2D(64, (3, 3), activation='relu'),\n",
    "    tf.keras.layers.MaxPooling2D((2, 2)),\n",
    "    tf.keras.layers.Flatten(),\n",
    "    tf.keras.layers.Dense(64, activation='relu'),\n",
    "    tf.keras.layers.Dense(3, activation='softmax')\n",
    "])\n",
    "\n",
    "\n",
    "\n",
    "\n",
    "# compile the model\n",
    "model.compile(optimizer='adam',\n",
    "                loss='categorical_crossentropy',\n",
    "                metrics=['accuracy'])\n",
    "\n",
    "    "
   ],
   "id": "ed17afdb878b999c",
   "outputs": [],
   "execution_count": 3
  },
  {
   "metadata": {
    "ExecuteTime": {
     "end_time": "2025-01-22T09:14:25.013194Z",
     "start_time": "2025-01-22T09:14:01.241136Z"
    }
   },
   "cell_type": "code",
   "source": [
    "# early stopping\n",
    "early_stopping = tf.keras.callbacks.EarlyStopping(\n",
    "    monitor='val_loss', min_delta=0, patience=5, verbose=0, mode='auto',\n",
    "    baseline=None, restore_best_weights=False\n",
    ")\n",
    "\n",
    "# fit the model\n",
    "model.fit(train_data, validation_data=val_data, epochs=30)"
   ],
   "id": "4ff6522e5190e678",
   "outputs": [
    {
     "name": "stdout",
     "output_type": "stream",
     "text": [
      "Epoch 1/30\n",
      "\u001B[1m75/75\u001B[0m \u001B[32m━━━━━━━━━━━━━━━━━━━━\u001B[0m\u001B[37m\u001B[0m \u001B[1m1s\u001B[0m 10ms/step - accuracy: 0.5466 - loss: 0.9426 - val_accuracy: 0.3633 - val_loss: 1.1984\n",
      "Epoch 2/30\n",
      "\u001B[1m75/75\u001B[0m \u001B[32m━━━━━━━━━━━━━━━━━━━━\u001B[0m\u001B[37m\u001B[0m \u001B[1m1s\u001B[0m 10ms/step - accuracy: 0.5736 - loss: 0.9056 - val_accuracy: 0.3833 - val_loss: 1.1917\n",
      "Epoch 3/30\n",
      "\u001B[1m75/75\u001B[0m \u001B[32m━━━━━━━━━━━━━━━━━━━━\u001B[0m\u001B[37m\u001B[0m \u001B[1m1s\u001B[0m 9ms/step - accuracy: 0.6013 - loss: 0.8644 - val_accuracy: 0.3500 - val_loss: 1.2633\n",
      "Epoch 4/30\n",
      "\u001B[1m75/75\u001B[0m \u001B[32m━━━━━━━━━━━━━━━━━━━━\u001B[0m\u001B[37m\u001B[0m \u001B[1m1s\u001B[0m 10ms/step - accuracy: 0.6265 - loss: 0.8350 - val_accuracy: 0.3667 - val_loss: 1.2706\n",
      "Epoch 5/30\n",
      "\u001B[1m75/75\u001B[0m \u001B[32m━━━━━━━━━━━━━━━━━━━━\u001B[0m\u001B[37m\u001B[0m \u001B[1m1s\u001B[0m 10ms/step - accuracy: 0.6608 - loss: 0.7860 - val_accuracy: 0.3633 - val_loss: 1.3427\n",
      "Epoch 6/30\n",
      "\u001B[1m75/75\u001B[0m \u001B[32m━━━━━━━━━━━━━━━━━━━━\u001B[0m\u001B[37m\u001B[0m \u001B[1m1s\u001B[0m 10ms/step - accuracy: 0.6888 - loss: 0.7429 - val_accuracy: 0.3567 - val_loss: 1.4139\n",
      "Epoch 7/30\n",
      "\u001B[1m75/75\u001B[0m \u001B[32m━━━━━━━━━━━━━━━━━━━━\u001B[0m\u001B[37m\u001B[0m \u001B[1m1s\u001B[0m 10ms/step - accuracy: 0.7118 - loss: 0.6936 - val_accuracy: 0.3633 - val_loss: 1.4860\n",
      "Epoch 8/30\n",
      "\u001B[1m75/75\u001B[0m \u001B[32m━━━━━━━━━━━━━━━━━━━━\u001B[0m\u001B[37m\u001B[0m \u001B[1m1s\u001B[0m 11ms/step - accuracy: 0.7362 - loss: 0.6388 - val_accuracy: 0.3433 - val_loss: 1.5380\n",
      "Epoch 9/30\n",
      "\u001B[1m75/75\u001B[0m \u001B[32m━━━━━━━━━━━━━━━━━━━━\u001B[0m\u001B[37m\u001B[0m \u001B[1m1s\u001B[0m 11ms/step - accuracy: 0.7629 - loss: 0.5811 - val_accuracy: 0.3600 - val_loss: 1.5737\n",
      "Epoch 10/30\n",
      "\u001B[1m75/75\u001B[0m \u001B[32m━━━━━━━━━━━━━━━━━━━━\u001B[0m\u001B[37m\u001B[0m \u001B[1m1s\u001B[0m 11ms/step - accuracy: 0.8011 - loss: 0.5244 - val_accuracy: 0.3500 - val_loss: 1.6020\n",
      "Epoch 11/30\n",
      "\u001B[1m75/75\u001B[0m \u001B[32m━━━━━━━━━━━━━━━━━━━━\u001B[0m\u001B[37m\u001B[0m \u001B[1m1s\u001B[0m 11ms/step - accuracy: 0.8354 - loss: 0.4645 - val_accuracy: 0.3467 - val_loss: 1.6680\n",
      "Epoch 12/30\n",
      "\u001B[1m75/75\u001B[0m \u001B[32m━━━━━━━━━━━━━━━━━━━━\u001B[0m\u001B[37m\u001B[0m \u001B[1m1s\u001B[0m 12ms/step - accuracy: 0.8625 - loss: 0.4096 - val_accuracy: 0.3600 - val_loss: 1.7449\n",
      "Epoch 13/30\n",
      "\u001B[1m75/75\u001B[0m \u001B[32m━━━━━━━━━━━━━━━━━━━━\u001B[0m\u001B[37m\u001B[0m \u001B[1m1s\u001B[0m 12ms/step - accuracy: 0.8928 - loss: 0.3583 - val_accuracy: 0.3500 - val_loss: 1.8257\n",
      "Epoch 14/30\n",
      "\u001B[1m75/75\u001B[0m \u001B[32m━━━━━━━━━━━━━━━━━━━━\u001B[0m\u001B[37m\u001B[0m \u001B[1m1s\u001B[0m 10ms/step - accuracy: 0.9146 - loss: 0.3153 - val_accuracy: 0.3400 - val_loss: 1.9820\n",
      "Epoch 15/30\n",
      "\u001B[1m75/75\u001B[0m \u001B[32m━━━━━━━━━━━━━━━━━━━━\u001B[0m\u001B[37m\u001B[0m \u001B[1m1s\u001B[0m 11ms/step - accuracy: 0.9229 - loss: 0.2809 - val_accuracy: 0.3367 - val_loss: 2.1627\n",
      "Epoch 16/30\n",
      "\u001B[1m75/75\u001B[0m \u001B[32m━━━━━━━━━━━━━━━━━━━━\u001B[0m\u001B[37m\u001B[0m \u001B[1m1s\u001B[0m 10ms/step - accuracy: 0.9018 - loss: 0.2972 - val_accuracy: 0.3467 - val_loss: 2.1970\n",
      "Epoch 17/30\n",
      "\u001B[1m75/75\u001B[0m \u001B[32m━━━━━━━━━━━━━━━━━━━━\u001B[0m\u001B[37m\u001B[0m \u001B[1m1s\u001B[0m 10ms/step - accuracy: 0.8376 - loss: 0.4116 - val_accuracy: 0.4133 - val_loss: 2.0238\n",
      "Epoch 18/30\n",
      "\u001B[1m75/75\u001B[0m \u001B[32m━━━━━━━━━━━━━━━━━━━━\u001B[0m\u001B[37m\u001B[0m \u001B[1m1s\u001B[0m 10ms/step - accuracy: 0.7759 - loss: 0.5316 - val_accuracy: 0.3900 - val_loss: 2.3562\n",
      "Epoch 19/30\n",
      "\u001B[1m75/75\u001B[0m \u001B[32m━━━━━━━━━━━━━━━━━━━━\u001B[0m\u001B[37m\u001B[0m \u001B[1m1s\u001B[0m 10ms/step - accuracy: 0.7698 - loss: 0.5430 - val_accuracy: 0.3967 - val_loss: 1.7726\n",
      "Epoch 20/30\n",
      "\u001B[1m75/75\u001B[0m \u001B[32m━━━━━━━━━━━━━━━━━━━━\u001B[0m\u001B[37m\u001B[0m \u001B[1m1s\u001B[0m 11ms/step - accuracy: 0.8378 - loss: 0.3820 - val_accuracy: 0.3267 - val_loss: 2.6618\n",
      "Epoch 21/30\n",
      "\u001B[1m75/75\u001B[0m \u001B[32m━━━━━━━━━━━━━━━━━━━━\u001B[0m\u001B[37m\u001B[0m \u001B[1m1s\u001B[0m 10ms/step - accuracy: 0.8781 - loss: 0.3225 - val_accuracy: 0.3267 - val_loss: 2.8384\n",
      "Epoch 22/30\n",
      "\u001B[1m75/75\u001B[0m \u001B[32m━━━━━━━━━━━━━━━━━━━━\u001B[0m\u001B[37m\u001B[0m \u001B[1m1s\u001B[0m 10ms/step - accuracy: 0.8718 - loss: 0.3241 - val_accuracy: 0.3433 - val_loss: 2.7713\n",
      "Epoch 23/30\n",
      "\u001B[1m75/75\u001B[0m \u001B[32m━━━━━━━━━━━━━━━━━━━━\u001B[0m\u001B[37m\u001B[0m \u001B[1m1s\u001B[0m 11ms/step - accuracy: 0.8731 - loss: 0.3130 - val_accuracy: 0.3867 - val_loss: 2.6050\n",
      "Epoch 24/30\n",
      "\u001B[1m75/75\u001B[0m \u001B[32m━━━━━━━━━━━━━━━━━━━━\u001B[0m\u001B[37m\u001B[0m \u001B[1m1s\u001B[0m 10ms/step - accuracy: 0.8686 - loss: 0.3029 - val_accuracy: 0.3767 - val_loss: 2.4483\n",
      "Epoch 25/30\n",
      "\u001B[1m75/75\u001B[0m \u001B[32m━━━━━━━━━━━━━━━━━━━━\u001B[0m\u001B[37m\u001B[0m \u001B[1m1s\u001B[0m 11ms/step - accuracy: 0.8382 - loss: 0.3409 - val_accuracy: 0.3867 - val_loss: 2.4406\n",
      "Epoch 26/30\n",
      "\u001B[1m75/75\u001B[0m \u001B[32m━━━━━━━━━━━━━━━━━━━━\u001B[0m\u001B[37m\u001B[0m \u001B[1m1s\u001B[0m 11ms/step - accuracy: 0.7995 - loss: 0.4425 - val_accuracy: 0.3467 - val_loss: 2.0532\n",
      "Epoch 27/30\n",
      "\u001B[1m75/75\u001B[0m \u001B[32m━━━━━━━━━━━━━━━━━━━━\u001B[0m\u001B[37m\u001B[0m \u001B[1m1s\u001B[0m 11ms/step - accuracy: 0.8591 - loss: 0.3613 - val_accuracy: 0.3667 - val_loss: 1.9469\n",
      "Epoch 28/30\n",
      "\u001B[1m75/75\u001B[0m \u001B[32m━━━━━━━━━━━━━━━━━━━━\u001B[0m\u001B[37m\u001B[0m \u001B[1m1s\u001B[0m 11ms/step - accuracy: 0.8426 - loss: 0.3645 - val_accuracy: 0.3967 - val_loss: 1.8939\n",
      "Epoch 29/30\n",
      "\u001B[1m75/75\u001B[0m \u001B[32m━━━━━━━━━━━━━━━━━━━━\u001B[0m\u001B[37m\u001B[0m \u001B[1m1s\u001B[0m 11ms/step - accuracy: 0.8460 - loss: 0.3822 - val_accuracy: 0.4200 - val_loss: 1.9508\n",
      "Epoch 30/30\n",
      "\u001B[1m75/75\u001B[0m \u001B[32m━━━━━━━━━━━━━━━━━━━━\u001B[0m\u001B[37m\u001B[0m \u001B[1m1s\u001B[0m 11ms/step - accuracy: 0.8159 - loss: 0.4790 - val_accuracy: 0.3867 - val_loss: 1.7926\n"
     ]
    },
    {
     "data": {
      "text/plain": [
       "<keras.src.callbacks.history.History at 0x177d02450>"
      ]
     },
     "execution_count": 5,
     "metadata": {},
     "output_type": "execute_result"
    }
   ],
   "execution_count": 5
  },
  {
   "metadata": {
    "ExecuteTime": {
     "end_time": "2025-01-22T08:56:12.433011Z",
     "start_time": "2025-01-22T08:56:12.432965Z"
    }
   },
   "cell_type": "code",
   "source": "model.history.history",
   "id": "f74edefbacf11107",
   "outputs": [],
   "execution_count": null
  },
  {
   "metadata": {
    "ExecuteTime": {
     "end_time": "2025-01-22T08:51:47.736386Z",
     "start_time": "2025-01-22T08:51:47.385761Z"
    }
   },
   "cell_type": "code",
   "source": [
    "# Evaluate the model on the test data\n",
    "model.evaluate(test_data)"
   ],
   "id": "64de8b071254663d",
   "outputs": [
    {
     "name": "stdout",
     "output_type": "stream",
     "text": [
      "\u001B[1m19/19\u001B[0m \u001B[32m━━━━━━━━━━━━━━━━━━━━\u001B[0m\u001B[37m\u001B[0m \u001B[1m0s\u001B[0m 12ms/step - accuracy: 0.4063 - loss: 1.1813\n"
     ]
    },
    {
     "data": {
      "text/plain": [
       "[1.164759874343872, 0.4000000059604645]"
      ]
     },
     "execution_count": 14,
     "metadata": {},
     "output_type": "execute_result"
    }
   ],
   "execution_count": 14
  },
  {
   "metadata": {
    "ExecuteTime": {
     "end_time": "2025-01-22T08:53:50.835391Z",
     "start_time": "2025-01-22T08:53:50.831801Z"
    }
   },
   "cell_type": "code",
   "source": "model.history.history",
   "id": "a83bb0321ae7cd6",
   "outputs": [
    {
     "data": {
      "text/plain": [
       "{}"
      ]
     },
     "execution_count": 20,
     "metadata": {},
     "output_type": "execute_result"
    }
   ],
   "execution_count": 20
  },
  {
   "metadata": {
    "ExecuteTime": {
     "end_time": "2025-01-22T09:14:31.440952Z",
     "start_time": "2025-01-22T09:14:31.207496Z"
    }
   },
   "cell_type": "code",
   "source": [
    "# visualize training\n",
    "import matplotlib.pyplot as plt\n",
    "\n",
    "def plot_training(history):\n",
    "    plt.plot(history.history['accuracy'])\n",
    "    plt.title('model accuracy')\n",
    "    plt.ylabel('accuracy')\n",
    "    plt.xlabel('epoch')\n",
    "    plt.legend(['train'], loc='upper left')\n",
    "    plt.show()\n",
    "    \n",
    "    plt.plot(history.history['loss'])\n",
    "    plt.title('model loss')\n",
    "    plt.ylabel('loss')\n",
    "    plt.xlabel('epoch')\n",
    "    plt.legend(['train'], loc='upper left')\n",
    "    plt.show()\n",
    "    \n",
    "plot_training(model.history)\n"
   ],
   "id": "e7586c895456370d",
   "outputs": [
    {
     "data": {
      "text/plain": [
       "<Figure size 640x480 with 1 Axes>"
      ],
      "image/png": "[encoded data removed]"
     },
     "metadata": {},
     "output_type": "display_data"
    },
    {
     "data": {
      "text/plain": [
       "<Figure size 640x480 with 1 Axes>"
      ],
      "image/png": "[encoded data removed]"
     },
     "metadata": {},
     "output_type": "display_data"
    }
   ],
   "execution_count": 6
  },
  {
   "metadata": {},
   "cell_type": "code",
   "outputs": [],
   "execution_count": null,
   "source": "",
   "id": "6452506573468976"
  }
 ],
 "metadata": {
  "kernelspec": {
   "display_name": "Python 3",
   "language": "python",
   "name": "python3"
  },
  "language_info": {
   "codemirror_mode": {
    "name": "ipython",
    "version": 2
   },
   "file_extension": ".py",
   "mimetype": "text/x-python",
   "name": "python",
   "nbconvert_exporter": "python",
   "pygments_lexer": "ipython2",
   "version": "2.7.6"
  }
 },
 "nbformat": 4,
 "nbformat_minor": 5
}
